{
 "cells": [
  {
   "cell_type": "code",
   "execution_count": 1,
   "metadata": {},
   "outputs": [
    {
     "name": "stdout",
     "output_type": "stream",
     "text": [
      "Dataset size (258, 2)\n",
      "row number:  258\n",
      "feature number:  2\n",
      "\n",
      "names of features:  ['Text', 'State']\n"
     ]
    },
    {
     "data": {
      "text/html": [
       "<div>\n",
       "<style scoped>\n",
       "    .dataframe tbody tr th:only-of-type {\n",
       "        vertical-align: middle;\n",
       "    }\n",
       "\n",
       "    .dataframe tbody tr th {\n",
       "        vertical-align: top;\n",
       "    }\n",
       "\n",
       "    .dataframe thead th {\n",
       "        text-align: right;\n",
       "    }\n",
       "</style>\n",
       "<table border=\"1\" class=\"dataframe\">\n",
       "  <thead>\n",
       "    <tr style=\"text-align: right;\">\n",
       "      <th></th>\n",
       "      <th>Text</th>\n",
       "      <th>State</th>\n",
       "    </tr>\n",
       "  </thead>\n",
       "  <tbody>\n",
       "    <tr>\n",
       "      <th>0</th>\n",
       "      <td>Thank you. Thank you. Thank you to Vice Presid...</td>\n",
       "      <td>2</td>\n",
       "    </tr>\n",
       "    <tr>\n",
       "      <th>1</th>\n",
       "      <td>So we left a little stuff for the union becaus...</td>\n",
       "      <td>2</td>\n",
       "    </tr>\n",
       "    <tr>\n",
       "      <th>2</th>\n",
       "      <td>You heard where the father flew them, the gran...</td>\n",
       "      <td>2</td>\n",
       "    </tr>\n",
       "    <tr>\n",
       "      <th>3</th>\n",
       "      <td>Then the number comes out, 266,000 with an adj...</td>\n",
       "      <td>2</td>\n",
       "    </tr>\n",
       "    <tr>\n",
       "      <th>4</th>\n",
       "      <td>And I said to my people, \"Why so small?\" Are w...</td>\n",
       "      <td>2</td>\n",
       "    </tr>\n",
       "    <tr>\n",
       "      <th>...</th>\n",
       "      <td>...</td>\n",
       "      <td>...</td>\n",
       "    </tr>\n",
       "    <tr>\n",
       "      <th>253</th>\n",
       "      <td>Thank you. Thank you. I love New Jersey and I'...</td>\n",
       "      <td>1</td>\n",
       "    </tr>\n",
       "    <tr>\n",
       "      <th>254</th>\n",
       "      <td>Well, thank you very much. Thank you. Thank yo...</td>\n",
       "      <td>2</td>\n",
       "    </tr>\n",
       "    <tr>\n",
       "      <th>255</th>\n",
       "      <td>Oh, thank you very much, everybody. Thank you....</td>\n",
       "      <td>2</td>\n",
       "    </tr>\n",
       "    <tr>\n",
       "      <th>256</th>\n",
       "      <td>Thank you. Wow.Thank you very much. Hello, New...</td>\n",
       "      <td>1</td>\n",
       "    </tr>\n",
       "    <tr>\n",
       "      <th>257</th>\n",
       "      <td>Hello, Jacksonville. We love Jacksonville. We ...</td>\n",
       "      <td>1</td>\n",
       "    </tr>\n",
       "  </tbody>\n",
       "</table>\n",
       "<p>258 rows × 2 columns</p>\n",
       "</div>"
      ],
      "text/plain": [
       "                                                  Text  State\n",
       "0    Thank you. Thank you. Thank you to Vice Presid...      2\n",
       "1    So we left a little stuff for the union becaus...      2\n",
       "2    You heard where the father flew them, the gran...      2\n",
       "3    Then the number comes out, 266,000 with an adj...      2\n",
       "4    And I said to my people, \"Why so small?\" Are w...      2\n",
       "..                                                 ...    ...\n",
       "253  Thank you. Thank you. I love New Jersey and I'...      1\n",
       "254  Well, thank you very much. Thank you. Thank yo...      2\n",
       "255  Oh, thank you very much, everybody. Thank you....      2\n",
       "256  Thank you. Wow.Thank you very much. Hello, New...      1\n",
       "257  Hello, Jacksonville. We love Jacksonville. We ...      1\n",
       "\n",
       "[258 rows x 2 columns]"
      ]
     },
     "execution_count": 1,
     "metadata": {},
     "output_type": "execute_result"
    }
   ],
   "source": [
    "import numpy as np\n",
    "import pandas as pd\n",
    "\n",
    "f = '/Users/marina/Desktop/school/Machine Learning/project/Trump.txt'\n",
    "df=pd.read_csv(f, delimiter = '\\t', encoding='utf8')\n",
    "\n",
    "print('Dataset size', df.shape)\n",
    "\n",
    "num_rows, num_feature = df.shape\n",
    "\n",
    "print('row number: ', num_rows)\n",
    "print('feature number: ', num_feature)\n",
    "print()\n",
    "print('names of features: ', list(df))\n",
    "df"
   ]
  },
  {
   "cell_type": "code",
   "execution_count": 2,
   "metadata": {},
   "outputs": [],
   "source": [
    "from nltk.tokenize import word_tokenize\n",
    "from nltk.stem import PorterStemmer\n",
    "from nltk.corpus import stopwords\n",
    "from nltk.stem.snowball import SnowballStemmer\n",
    "import re\n",
    "\n",
    "stemmer = SnowballStemmer(\"english\")\n",
    "\n",
    "def clear_data(df):\n",
    "    df['Text'] = df['Text'].apply(lambda text: text.strip().split('|')[-1].split('http')[0].strip().lower())\n",
    "    df['Text'] = df['Text'].apply(lambda text: re.sub('[?!@#$1234567890#—ツ►๑۩۞۩•*”˜˜”*°°*``,.]', '', text))\n",
    "    return df\n",
    "    \n",
    "def tokenize_and_stem(df):\n",
    "    df['Text'] = df['Text'].apply(lambda text: word_tokenize(text))\n",
    "    df['Text'] = df['Text'].apply(lambda text: [stemmer.stem(word) for word in text])\n",
    "    df['Text'] = df['Text'].apply(lambda text: ' '.join(text))\n",
    "    return df"
   ]
  },
  {
   "cell_type": "code",
   "execution_count": 3,
   "metadata": {},
   "outputs": [
    {
     "data": {
      "text/html": [
       "<div>\n",
       "<style scoped>\n",
       "    .dataframe tbody tr th:only-of-type {\n",
       "        vertical-align: middle;\n",
       "    }\n",
       "\n",
       "    .dataframe tbody tr th {\n",
       "        vertical-align: top;\n",
       "    }\n",
       "\n",
       "    .dataframe thead th {\n",
       "        text-align: right;\n",
       "    }\n",
       "</style>\n",
       "<table border=\"1\" class=\"dataframe\">\n",
       "  <thead>\n",
       "    <tr style=\"text-align: right;\">\n",
       "      <th></th>\n",
       "      <th>Text</th>\n",
       "      <th>State</th>\n",
       "    </tr>\n",
       "  </thead>\n",
       "  <tbody>\n",
       "    <tr>\n",
       "      <th>0</th>\n",
       "      <td>thank you thank you thank you to vice presid p...</td>\n",
       "      <td>2</td>\n",
       "    </tr>\n",
       "    <tr>\n",
       "      <th>1</th>\n",
       "      <td>so we left a littl stuff for the union becaus ...</td>\n",
       "      <td>2</td>\n",
       "    </tr>\n",
       "    <tr>\n",
       "      <th>2</th>\n",
       "      <td>you heard where the father flew them the grand...</td>\n",
       "      <td>2</td>\n",
       "    </tr>\n",
       "    <tr>\n",
       "      <th>3</th>\n",
       "      <td>then the number come out with an adjust rememb...</td>\n",
       "      <td>2</td>\n",
       "    </tr>\n",
       "    <tr>\n",
       "      <th>4</th>\n",
       "      <td>and i said to my peopl `` whi so small '' are ...</td>\n",
       "      <td>2</td>\n",
       "    </tr>\n",
       "  </tbody>\n",
       "</table>\n",
       "</div>"
      ],
      "text/plain": [
       "                                                Text  State\n",
       "0  thank you thank you thank you to vice presid p...      2\n",
       "1  so we left a littl stuff for the union becaus ...      2\n",
       "2  you heard where the father flew them the grand...      2\n",
       "3  then the number come out with an adjust rememb...      2\n",
       "4  and i said to my peopl `` whi so small '' are ...      2"
      ]
     },
     "execution_count": 3,
     "metadata": {},
     "output_type": "execute_result"
    }
   ],
   "source": [
    "df = clear_data(df)\n",
    "df = tokenize_and_stem(df)\n",
    "\n",
    "df.head()"
   ]
  },
  {
   "cell_type": "code",
   "execution_count": 4,
   "metadata": {},
   "outputs": [
    {
     "name": "stdout",
     "output_type": "stream",
     "text": [
      "the list of stop words:  ['a', 'able', 'about', 'above', 'abst', 'accordance', 'according', 'accordingly', 'across', 'act', 'actually', 'added', 'adj', 'affected', 'affecting', 'affects', 'after', 'afterwards', 'again', 'against', 'ah', 'all', 'almost', 'alone', 'along', 'already', 'also', 'although', 'always', 'am', 'among', 'amongst', 'an', 'and', 'announce', 'another', 'any', 'anybody', 'anyhow', 'anymore', 'anyone', 'anything', 'anyway', 'anyways', 'anywhere', 'apparently', 'approximately', 'are', 'aren', 'arent', 'arise', 'around', 'as', 'aside', 'ask', 'asking', 'at', 'auth', 'available', 'away', 'awfully', 'b', 'back', 'be', 'became', 'because', 'become', 'becomes', 'becoming', 'been', 'before', 'beforehand', 'begin', 'beginning', 'beginnings', 'begins', 'behind', 'being', 'believe', 'below', 'beside', 'besides', 'between', 'beyond', 'biol', 'both', 'brief', 'briefly', 'but', 'by', 'c', 'ca', 'came', 'can', 'cannot', \"can't\", 'cause', 'causes', 'certain', 'certainly', 'co', 'com', 'come', 'comes', 'contain', 'containing', 'contains', 'could', 'couldnt', 'd', 'date', 'did', \"didn't\", 'different', 'do', 'does', \"doesn't\", 'doing', 'done', \"don't\", 'down', 'downwards', 'due', 'during', 'e', 'each', 'ed', 'edu', 'effect', 'eg', 'eight', 'eighty', 'either', 'else', 'elsewhere', 'end', 'ending', 'enough', 'especially', 'et', 'et-al', 'etc', 'even', 'ever', 'every', 'everybody', 'everyone', 'everything', 'everywhere', 'ex', 'except', 'f', 'far', 'few', 'ff', 'fifth', 'first', 'five', 'fix', 'followed', 'following', 'follows', 'for', 'former', 'formerly', 'forth', 'found', 'four', 'from', 'further', 'furthermore', 'g', 'gave', 'get', 'gets', 'getting', 'give', 'given', 'gives', 'giving', 'go', 'goes', 'gone', 'got', 'gotten', 'h', 'had', 'happens', 'hardly', 'has', \"hasn't\", 'have', \"haven't\", 'having', 'he', 'hed', 'hence', 'her', 'here', 'hereafter', 'hereby', 'herein', 'heres', 'hereupon', 'hers', 'herself', 'hes', 'hi', 'hid', 'him', 'himself', 'his', 'hither', 'home', 'how', 'howbeit', 'however', 'hundred', 'i', 'id', 'ie', 'if', \"i'll\", 'im', 'immediate', 'immediately', 'importance', 'important', 'in', 'inc', 'indeed', 'index', 'information', 'instead', 'into', 'invention', 'inward', 'is', \"isn't\", 'it', 'itd', \"it'll\", 'its', 'itself', \"i've\", 'j', 'just', 'k', 'keep', 'keeps', 'kept', 'kg', 'km', 'know', 'known', 'knows', 'l', 'largely', 'last', 'lately', 'later', 'latter', 'latterly', 'least', 'less', 'lest', 'let', 'lets', 'like', 'liked', 'likely', 'line', 'little', \"'ll\", 'look', 'looking', 'looks', 'ltd', 'm', 'made', 'mainly', 'make', 'makes', 'many', 'may', 'maybe', 'me', 'mean', 'means', 'meantime', 'meanwhile', 'merely', 'mg', 'might', 'million', 'miss', 'ml', 'more', 'moreover', 'most', 'mostly', 'mr', 'mrs', 'much', 'mug', 'must', 'my', 'myself', 'n', 'na', 'name', 'namely', 'nay', 'nd', 'near', 'nearly', 'necessarily', 'necessary', 'need', 'needs', 'neither', 'never', 'nevertheless', 'new', 'next', 'nine', 'ninety', 'no', 'nobody', 'non', 'none', 'nonetheless', 'noone', 'nor', 'normally', 'nos', 'not', 'noted', 'nothing', 'now', 'nowhere', 'o', 'obtain', 'obtained', 'obviously', 'of', 'off', 'often', 'oh', 'ok', 'okay', 'old', 'omitted', 'on', 'once', 'one', 'ones', 'only', 'onto', 'or', 'ord', 'other', 'others', 'otherwise', 'ought', 'our', 'ours', 'ourselves', 'out', 'outside', 'over', 'overall', 'owing', 'own', 'p', 'page', 'pages', 'part', 'particular', 'particularly', 'past', 'per', 'perhaps', 'placed', 'please', 'plus', 'poorly', 'possible', 'possibly', 'potentially', 'pp', 'predominantly', 'present', 'previously', 'primarily', 'probably', 'promptly', 'proud', 'provides', 'put', 'q', 'que', 'quickly', 'quite', 'qv', 'r', 'ran', 'rather', 'rd', 're', 'readily', 'really', 'recent', 'recently', 'ref', 'refs', 'regarding', 'regardless', 'regards', 'related', 'relatively', 'research', 'respectively', 'resulted', 'resulting', 'results', 'right', 'run', 's', 'said', 'same', 'saw', 'say', 'saying', 'says', 'sec', 'section', 'see', 'seeing', 'seem', 'seemed', 'seeming', 'seems', 'seen', 'self', 'selves', 'sent', 'seven', 'several', 'shall', 'she', 'shed', \"she'll\", 'shes', 'should', \"shouldn't\", 'show', 'showed', 'shown', 'showns', 'shows', 'significant', 'significantly', 'similar', 'similarly', 'since', 'six', 'slightly', 'so', 'some', 'somebody', 'somehow', 'someone', 'somethan', 'something', 'sometime', 'sometimes', 'somewhat', 'somewhere', 'soon', 'sorry', 'specifically', 'specified', 'specify', 'specifying', 'still', 'stop', 'strongly', 'sub', 'substantially', 'successfully', 'such', 'sufficiently', 'suggest', 'sup', 'sure', 't', 'take', 'taken', 'taking', 'tell', 'tends', 'th', 'than', 'thank', 'thanks', 'thanx', 'that', \"that'll\", 'thats', \"that've\", 'the', 'their', 'theirs', 'them', 'themselves', 'then', 'thence', 'there', 'thereafter', 'thereby', 'thered', 'therefore', 'therein', \"there'll\", 'thereof', 'therere', 'theres', 'thereto', 'thereupon', \"there've\", 'these', 'they', 'theyd', \"they'll\", 'theyre', \"they've\", 'think', 'this', 'those', 'thou', 'though', 'thoughh', 'thousand', 'throug', 'through', 'throughout', 'thru', 'thus', 'til', 'tip', 'to', 'together', 'too', 'took', 'toward', 'towards', 'tried', 'tries', 'truly', 'try', 'trying', 'ts', 'twice', 'two', 'u', 'un', 'under', 'unfortunately', 'unless', 'unlike', 'unlikely', 'until', 'unto', 'up', 'upon', 'ups', 'us', 'use', 'used', 'useful', 'usefully', 'usefulness', 'uses', 'using', 'usually', 'v', 'value', 'various', \"'ve\", 'very', 'via', 'viz', 'vol', 'vols', 'vs', 'w', 'want', 'wants', 'was', 'wasnt', 'way', 'we', 'wed', 'welcome', \"we'll\", 'went', 'were', 'werent', \"we've\", 'what', 'whatever', \"what'll\", 'whats', 'when', 'whence', 'whenever', 'where', 'whereafter', 'whereas', 'whereby', 'wherein', 'wheres', 'whereupon', 'wherever', 'whether', 'which', 'while', 'whim', 'whither', 'who', 'whod', 'whoever', 'whole', \"who'll\", 'whom', 'whomever', 'whos', 'whose', 'why', 'widely', 'willing', 'wish', 'with', 'within', 'without', 'wont', 'words', 'world', 'would', 'wouldnt', 'www', 'x', 'y', 'yes', 'yet', 'you', 'youd', \"you'll\", 'your', 'youre', 'yours', 'yourself', 'yourselves', \"you've\", 'z', 'zero', 'al', 'didn', 'doesn', 'don', 'hasn', 'haven', 'isn', 'll', 'shouldn', 've', 'peopl', 'great', 'will', 'becaus', 'veri', 'year', 'thing', 'good', 'guy', 'countri', 'great', 'american', 'people', 'veri', 'countri', 'will', 'tender', 'peopl', 'great', 'year', 'thom', 'countri', 'veri', 'becaus', 'peopl', 'great', 'will', 'year', 'countri', 'becaus', 'veri', 'american', 'job', 'state', 'lot', 'modi', 'happen', 'presid', 'well', 'big']\n",
      "number of docs:  258  number features:  5577\n"
     ]
    }
   ],
   "source": [
    "file_name ='/Users/marina/Desktop/school/Machine Learning/project/stop_words.txt'\n",
    "words = pd.read_csv(file_name)\n",
    "\n",
    "my_stop = words['Stop_words'].values.tolist()\n",
    "\n",
    "print('the list of stop words: ', my_stop)\n",
    "\n",
    "from sklearn.feature_extraction.text import TfidfVectorizer\n",
    "vec = TfidfVectorizer(ngram_range=(1,1),stop_words=(my_stop))\n",
    "\n",
    "data = vec.fit_transform(df['Text']).toarray()\n",
    "\n",
    "num_docs, num_feature = data.shape\n",
    "print('number of docs: ', num_docs, ' number features: ', num_feature)"
   ]
  },
  {
   "cell_type": "code",
   "execution_count": 5,
   "metadata": {},
   "outputs": [],
   "source": [
    "myfich=vec.get_feature_names()"
   ]
  },
  {
   "cell_type": "markdown",
   "metadata": {},
   "source": [
    "# Разделение на тестовую и обучающую коллекции"
   ]
  },
  {
   "cell_type": "code",
   "execution_count": 6,
   "metadata": {},
   "outputs": [],
   "source": [
    "X = data\n",
    "Y = df['State'].values"
   ]
  },
  {
   "cell_type": "code",
   "execution_count": 7,
   "metadata": {},
   "outputs": [
    {
     "name": "stdout",
     "output_type": "stream",
     "text": [
      "Test collection size:  (86, 5577)\n",
      "Training collection size:  (172, 5577)\n"
     ]
    }
   ],
   "source": [
    "from sklearn.model_selection import train_test_split\n",
    "X_train, X_test, y_train, y_test = train_test_split(X, Y, test_size=0.33, random_state=42)\n",
    "print('Test collection size: ', X_test.shape)\n",
    "print('Training collection size: ', X_train.shape)"
   ]
  },
  {
   "cell_type": "markdown",
   "metadata": {},
   "source": [
    "# Naive Bayes"
   ]
  },
  {
   "cell_type": "code",
   "execution_count": 8,
   "metadata": {},
   "outputs": [
    {
     "name": "stdout",
     "output_type": "stream",
     "text": [
      "              precision    recall  f1-score   support\n",
      "\n",
      "           1       0.79      0.48      0.59        23\n",
      "           2       0.83      0.95      0.89        63\n",
      "\n",
      "    accuracy                           0.83        86\n",
      "   macro avg       0.81      0.72      0.74        86\n",
      "weighted avg       0.82      0.83      0.81        86\n",
      "\n",
      "-------------------------------------\n",
      "confusion matrix\n",
      "[[11 12]\n",
      " [ 3 60]]\n"
     ]
    },
    {
     "data": {
      "image/png": "[encoded data removed]",
      "text/plain": [
       "<Figure size 432x432 with 1 Axes>"
      ]
     },
     "metadata": {
      "needs_background": "light"
     },
     "output_type": "display_data"
    }
   ],
   "source": [
    "from sklearn import metrics\n",
    "from sklearn.naive_bayes import GaussianNB\n",
    "\n",
    "model = GaussianNB()\n",
    "\n",
    "model.fit(X_train, y_train)\n",
    "\n",
    "y_predicted = model.predict(X_test)\n",
    "\n",
    "print(metrics.classification_report(y_test, y_predicted))\n",
    "print('-------------------------------------')\n",
    "print('confusion matrix')\n",
    "print(metrics.confusion_matrix(y_test, y_predicted))\n",
    "\n",
    "%matplotlib inline\n",
    "import matplotlib.pyplot as plt\n",
    "fig, ax = plt.subplots()\n",
    "cmap=plt.cm.Oranges\n",
    "ax.imshow(metrics.confusion_matrix(y_test, y_predicted), cmap=cmap)\n",
    "fig.set_figwidth(6) \n",
    "fig.set_figheight(6)\n",
    "plt.show()\n"
   ]
  },
  {
   "cell_type": "code",
   "execution_count": 9,
   "metadata": {},
   "outputs": [
    {
     "name": "stdout",
     "output_type": "stream",
     "text": [
      "              precision    recall  f1-score   support\n",
      "\n",
      "           1       0.00      0.00      0.00        23\n",
      "           2       0.73      1.00      0.85        63\n",
      "\n",
      "    accuracy                           0.73        86\n",
      "   macro avg       0.37      0.50      0.42        86\n",
      "weighted avg       0.54      0.73      0.62        86\n",
      "\n",
      "confusion matrix\n",
      "[[ 0 23]\n",
      " [ 0 63]]\n"
     ]
    },
    {
     "data": {
      "image/png": "[encoded data removed]",
      "text/plain": [
       "<Figure size 432x432 with 1 Axes>"
      ]
     },
     "metadata": {
      "needs_background": "light"
     },
     "output_type": "display_data"
    }
   ],
   "source": [
    "from sklearn.naive_bayes import MultinomialNB\n",
    "\n",
    "nb = MultinomialNB()\n",
    "\n",
    "nb.fit(X_train, y_train)\n",
    "\n",
    "y_predicted = nb.predict(X_test)\n",
    "\n",
    "print(metrics.classification_report(y_test, y_predicted, zero_division=0))\n",
    "print('confusion matrix')\n",
    "print(metrics.confusion_matrix(y_test, y_predicted))\n",
    "\n",
    "%matplotlib inline\n",
    "import matplotlib.pyplot as plt\n",
    "fig, ax = plt.subplots()\n",
    "cmap=plt.cm.Oranges\n",
    "ax.imshow(metrics.confusion_matrix(y_test, y_predicted), cmap=cmap)\n",
    "fig.set_figwidth(6)   \n",
    "fig.set_figheight(6) \n",
    "plt.show()"
   ]
  },
  {
   "cell_type": "code",
   "execution_count": 10,
   "metadata": {},
   "outputs": [
    {
     "name": "stdout",
     "output_type": "stream",
     "text": [
      "              precision    recall  f1-score   support\n",
      "\n",
      "           1       0.44      0.17      0.25        23\n",
      "           2       0.75      0.92      0.83        63\n",
      "\n",
      "    accuracy                           0.72        86\n",
      "   macro avg       0.60      0.55      0.54        86\n",
      "weighted avg       0.67      0.72      0.67        86\n",
      "\n",
      "confusion matrix\n",
      "[[ 4 19]\n",
      " [ 5 58]]\n"
     ]
    },
    {
     "data": {
      "image/png": "[encoded data removed]",
      "text/plain": [
       "<Figure size 432x432 with 1 Axes>"
      ]
     },
     "metadata": {
      "needs_background": "light"
     },
     "output_type": "display_data"
    }
   ],
   "source": [
    "from sklearn.naive_bayes import BernoulliNB\n",
    "clf = BernoulliNB()\n",
    "clf.fit(X_train, y_train)\n",
    "\n",
    "y_predicted = clf.predict(X_test)\n",
    "\n",
    "print(metrics.classification_report(y_test, y_predicted, zero_division=0))\n",
    "print('confusion matrix')\n",
    "print(metrics.confusion_matrix(y_test, y_predicted))\n",
    "\n",
    "%matplotlib inline\n",
    "import matplotlib.pyplot as plt\n",
    "fig, ax = plt.subplots()\n",
    "cmap=plt.cm.Oranges\n",
    "ax.imshow(metrics.confusion_matrix(y_test, y_predicted), cmap=cmap)\n",
    "fig.set_figwidth(6)   \n",
    "fig.set_figheight(6)  \n",
    "plt.show()"
   ]
  },
  {
   "cell_type": "markdown",
   "metadata": {},
   "source": [
    "# Cross-validation Naive Bayes"
   ]
  },
  {
   "cell_type": "code",
   "execution_count": 11,
   "metadata": {},
   "outputs": [
    {
     "name": "stdout",
     "output_type": "stream",
     "text": [
      "значения f1_macro:  [0.75035868 0.76328904 0.63601533]\n",
      "среднее значения f1_macro по всем запускам:  0.7165543474242458\n"
     ]
    }
   ],
   "source": [
    "from sklearn import metrics\n",
    "from sklearn.naive_bayes import GaussianNB\n",
    "\n",
    "from sklearn.model_selection import cross_val_score\n",
    "from sklearn.metrics import f1_score\n",
    "\n",
    "model = GaussianNB()\n",
    "scores = cross_val_score(model, X_train, y_train, cv=3, scoring='f1_macro')\n",
    "print('значения f1_macro: ', scores)\n",
    "print('среднее значения f1_macro по всем запускам: ', np.mean(scores))"
   ]
  },
  {
   "cell_type": "code",
   "execution_count": 12,
   "metadata": {},
   "outputs": [
    {
     "name": "stdout",
     "output_type": "stream",
     "text": [
      "значения f1_macro:  [0.41414141 0.41237113 0.41237113]\n",
      "среднее значения f1_macro по всем запускам:  0.4129612273942171\n"
     ]
    }
   ],
   "source": [
    "from sklearn import metrics\n",
    "from sklearn.naive_bayes import MultinomialNB\n",
    "\n",
    "from sklearn.model_selection import cross_val_score\n",
    "from sklearn.metrics import f1_score\n",
    "\n",
    "model = MultinomialNB()\n",
    "scores = cross_val_score(model, X_train, y_train, cv=3, scoring='f1_macro')\n",
    "print('значения f1_macro: ', scores)\n",
    "print('среднее значения f1_macro по всем запускам: ', np.mean(scores))"
   ]
  },
  {
   "cell_type": "code",
   "execution_count": 13,
   "metadata": {},
   "outputs": [
    {
     "name": "stdout",
     "output_type": "stream",
     "text": [
      "значения f1_macro:  [0.45625    0.493083   0.50384025]\n",
      "среднее значения f1_macro по всем запускам:  0.48439108324276625\n"
     ]
    }
   ],
   "source": [
    "from sklearn import metrics\n",
    "from sklearn.naive_bayes import BernoulliNB\n",
    "\n",
    "from sklearn.model_selection import cross_val_score\n",
    "from sklearn.metrics import f1_score\n",
    "\n",
    "model = BernoulliNB()\n",
    "scores = cross_val_score(model, X_train, y_train, cv=3, scoring='f1_macro')\n",
    "print('значения f1_macro: ', scores)\n",
    "print('среднее значения f1_macro по всем запускам: ', np.mean(scores))"
   ]
  },
  {
   "cell_type": "code",
   "execution_count": 14,
   "metadata": {},
   "outputs": [
    {
     "name": "stdout",
     "output_type": "stream",
     "text": [
      "              precision    recall  f1-score   support\n",
      "\n",
      "           1       0.00      0.00      0.00        23\n",
      "           2       0.73      1.00      0.85        63\n",
      "\n",
      "    accuracy                           0.73        86\n",
      "   macro avg       0.37      0.50      0.42        86\n",
      "weighted avg       0.54      0.73      0.62        86\n",
      "\n",
      "confusion matrix\n",
      "[[ 0 23]\n",
      " [ 0 63]]\n"
     ]
    },
    {
     "data": {
      "image/png": "[encoded data removed]",
      "text/plain": [
       "<Figure size 432x432 with 1 Axes>"
      ]
     },
     "metadata": {
      "needs_background": "light"
     },
     "output_type": "display_data"
    },
    {
     "name": "stdout",
     "output_type": "stream",
     "text": [
      "F1 Score:  0.7325581395348836\n"
     ]
    }
   ],
   "source": [
    "from sklearn.linear_model import LogisticRegression\n",
    "clf = LogisticRegression(C=0.1, penalty='l2',max_iter=1000, tol=0.01, solver='saga', random_state=0).fit(X_train,y_train)\n",
    "y_predicted = clf.predict(X_test)\n",
    "print(metrics.classification_report(y_test, y_predicted, zero_division=0))\n",
    "print('confusion matrix')\n",
    "print(metrics.confusion_matrix(y_test, y_predicted))\n",
    "\n",
    "%matplotlib inline\n",
    "import matplotlib.pyplot as plt\n",
    "fig, ax = plt.subplots()\n",
    "cmap=plt.cm.Oranges\n",
    "ax.imshow(metrics.confusion_matrix(y_test, y_predicted), cmap=cmap)\n",
    "fig.set_figwidth(6)  \n",
    "fig.set_figheight(6)  \n",
    "plt.show()\n",
    "\n",
    "print(\"F1 Score: \", f1_score(y_test, y_predicted,average='micro'))"
   ]
  },
  {
   "cell_type": "code",
   "execution_count": 15,
   "metadata": {},
   "outputs": [
    {
     "name": "stdout",
     "output_type": "stream",
     "text": [
      "              precision    recall  f1-score   support\n",
      "\n",
      "           1       0.45      0.22      0.29        23\n",
      "           2       0.76      0.90      0.83        63\n",
      "\n",
      "    accuracy                           0.72        86\n",
      "   macro avg       0.61      0.56      0.56        86\n",
      "weighted avg       0.68      0.72      0.68        86\n",
      "\n",
      "[[ 5 18]\n",
      " [ 6 57]]\n"
     ]
    },
    {
     "data": {
      "image/png": "[encoded data removed]",
      "text/plain": [
       "<Figure size 432x432 with 1 Axes>"
      ]
     },
     "metadata": {
      "needs_background": "light"
     },
     "output_type": "display_data"
    }
   ],
   "source": [
    "from sklearn import metrics\n",
    "from sklearn.metrics import accuracy_score, f1_score, precision_score, recall_score, classification_report, confusion_matrix\n",
    "from sklearn.ensemble import RandomForestClassifier\n",
    "model = RandomForestClassifier(\n",
    "    n_estimators=50, # The number of trees in the forest.\n",
    "    criterion='gini', #  function to measure the quality of a split (Gini impurity and “entropy”)\n",
    "    max_depth=5, # The maximum depth of the tree\n",
    "    min_samples_split=2, # The minimum number of samples required to split\n",
    "    min_samples_leaf=1, # The minimum number of samples required to be at a leaf node\n",
    "    min_weight_fraction_leaf=0.0, # The minimum weighted fraction of the sum total of weights\n",
    "    max_features='auto', # The number of features to consider when looking for the best split.\n",
    "    max_leaf_nodes=None,\n",
    "    min_impurity_decrease=0.0, # Threshold for early stopping in tree growth. \n",
    "    min_impurity_split=None,\n",
    "    bootstrap=True,\n",
    "    oob_score=False,\n",
    "    n_jobs=-1,  # The number of jobs to run in parallel. -1 means using all processors.\n",
    "    random_state=0, # \n",
    "    verbose=0,\n",
    "    warm_start=False,\n",
    "    class_weight='balanced')\n",
    "\n",
    "model.fit(X_train, y_train)\n",
    "\n",
    "y_predicted = model.predict(X_test)\n",
    "\n",
    "print(metrics.classification_report(y_test, y_predicted))\n",
    "print(metrics.confusion_matrix(y_test, y_predicted))\n",
    "\n",
    "\n",
    "%matplotlib inline\n",
    "import matplotlib.pyplot as plt\n",
    "fig, ax = plt.subplots()\n",
    "cmap=plt.cm.Oranges\n",
    "ax.imshow(metrics.confusion_matrix(y_test, y_predicted), cmap=cmap)\n",
    "fig.set_figwidth(6) \n",
    "fig.set_figheight(6) \n",
    "plt.show()\n"
   ]
  },
  {
   "cell_type": "code",
   "execution_count": 16,
   "metadata": {},
   "outputs": [
    {
     "name": "stdout",
     "output_type": "stream",
     "text": [
      "значения f1_macro:  [0.50576441 0.51489362 0.45425532]\n",
      "среднее значения f1_macro по всем запускам:  0.4916377823992606\n"
     ]
    }
   ],
   "source": [
    "from sklearn import model_selection\n",
    "from sklearn.model_selection import cross_val_score\n",
    "from sklearn.metrics import f1_score\n",
    "\n",
    "model = RandomForestClassifier(\n",
    "    n_estimators=50,\n",
    "    criterion='gini',\n",
    "    max_depth=5,\n",
    "    min_samples_split=2,\n",
    "    min_samples_leaf=1,\n",
    "    min_weight_fraction_leaf=0.0,\n",
    "    max_features='auto',\n",
    "    max_leaf_nodes=None,\n",
    "    min_impurity_decrease=0.0,\n",
    "    min_impurity_split=None,\n",
    "    bootstrap=True,\n",
    "    oob_score=False,\n",
    "    n_jobs=-1,\n",
    "    random_state=0,\n",
    "    verbose=0,\n",
    "    warm_start=False,\n",
    "    class_weight='balanced')\n",
    "\n",
    "results = model_selection.cross_val_score(model, X_train, y_train, cv=3, scoring='f1_macro')\n",
    "print('значения f1_macro: ', results)\n",
    "print('среднее значения f1_macro по всем запускам: ', np.mean(results))"
   ]
  },
  {
   "cell_type": "code",
   "execution_count": 17,
   "metadata": {},
   "outputs": [
    {
     "name": "stdout",
     "output_type": "stream",
     "text": [
      "f1_score:  0.6718101874896301\n",
      "precision_score:  0.6666666666666667\n",
      "recall_score 0.6794340924775707\n",
      "              precision    recall  f1-score   support\n",
      "\n",
      "           1       0.50      0.57      0.53        23\n",
      "           2       0.83      0.79      0.81        63\n",
      "\n",
      "    accuracy                           0.73        86\n",
      "   macro avg       0.67      0.68      0.67        86\n",
      "weighted avg       0.74      0.73      0.74        86\n",
      "\n",
      "confusion matrix\n",
      "[[13 10]\n",
      " [13 50]]\n"
     ]
    },
    {
     "data": {
      "image/png": "[encoded data removed]",
      "text/plain": [
       "<Figure size 432x432 with 1 Axes>"
      ]
     },
     "metadata": {
      "needs_background": "light"
     },
     "output_type": "display_data"
    }
   ],
   "source": [
    "from sklearn.metrics import accuracy_score, f1_score, precision_score, recall_score, classification_report, confusion_matrix\n",
    "\n",
    "from sklearn.neighbors import KNeighborsClassifier\n",
    "\n",
    "weights = 'uniform'\n",
    "\n",
    "p = 2\n",
    "\n",
    "algorithm = 'auto'\n",
    "knn = KNeighborsClassifier(n_neighbors= 1, algorithm='auto', leaf_size=30, p=2)\n",
    "knn.fit(X_train, y_train)\n",
    "knn.score(X_test, y_test)\n",
    "\n",
    "from sklearn import metrics\n",
    "y_predicted = knn.predict(X_test)\n",
    "\n",
    "print('f1_score: ', f1_score(y_test, y_predicted, average=\"macro\"))\n",
    "print('precision_score: ', precision_score(y_test, y_predicted, average=\"macro\"))\n",
    "print('recall_score', recall_score(y_test, y_predicted, average=\"macro\")) \n",
    "\n",
    "print(metrics.classification_report(y_test, y_predicted))\n",
    "\n",
    "print('confusion matrix')\n",
    "print(metrics.confusion_matrix(y_test, y_predicted))\n",
    "\n",
    "%matplotlib inline\n",
    "import matplotlib.pyplot as plt\n",
    "fig, ax = plt.subplots()\n",
    "cmap=plt.cm.Oranges\n",
    "ax.imshow(metrics.confusion_matrix(y_test, y_predicted), cmap=cmap)\n",
    "fig.set_figwidth(6)  \n",
    "fig.set_figheight(6)  \n",
    "plt.show()"
   ]
  },
  {
   "cell_type": "code",
   "execution_count": 18,
   "metadata": {},
   "outputs": [
    {
     "name": "stdout",
     "output_type": "stream",
     "text": [
      "0.593537482469371\n",
      "0.5229457933629605\n",
      "0.6159578995836306\n",
      "0.6155275989994661\n",
      "0.6133561480290167\n",
      "0.6068671258668507\n",
      "0.5957713278850979\n",
      "0.6440700846932789\n",
      "0.6121158429585396\n",
      "0.6172065337763012\n",
      "0.5770830462976325\n",
      "0.6258552541910863\n",
      "0.5611068734638529\n",
      "0.6274470612152062\n",
      "0.5517014112758795\n",
      "0.593048627881063\n"
     ]
    },
    {
     "data": {
      "image/png": "[encoded data removed]",
      "text/plain": [
       "<Figure size 432x288 with 1 Axes>"
      ]
     },
     "metadata": {
      "needs_background": "light"
     },
     "output_type": "display_data"
    },
    {
     "name": "stdout",
     "output_type": "stream",
     "text": [
      "среднее значения f1_macro по всем запускам:  0.593048627881063\n",
      "calculation is over\n"
     ]
    }
   ],
   "source": [
    "from sklearn.model_selection import cross_val_score\n",
    "import matplotlib.pyplot as plt\n",
    "from sklearn.metrics import f1_score\n",
    "import numpy as np\n",
    "\n",
    "neighbors=17\n",
    "weights = 'uniform'\n",
    "p = 2\n",
    "cv_scores_train = []\n",
    "cv_scores_test = []\n",
    "\n",
    "YY = Y.ravel\n",
    "for k in range(1, neighbors):\n",
    "    knn = KNeighborsClassifier(n_neighbors= k, algorithm='auto', leaf_size=30, p=2)\n",
    "    knn.fit(X_train, y_train)\n",
    "    scores = cross_val_score(knn, X_train, y_train, cv=3, scoring='f1_macro')\n",
    "    print(np.mean(scores))\n",
    "    cv_scores_train.append(np.mean(scores))\n",
    "\n",
    "plt.plot(cv_scores_train, 'ro', alpha=0.2)\n",
    "plt.plot(cv_scores_train, '-bo', linewidth=1)\n",
    "\n",
    "plt.plot(cv_scores_test, 'ro', alpha=0.2)\n",
    "plt.plot(cv_scores_test, 'r', alpha=0.2)\n",
    "plt.show()    \n",
    "\n",
    "print('среднее значения f1_macro по всем запускам: ', np.mean(scores))\n",
    "print('calculation is over')"
   ]
  },
  {
   "cell_type": "code",
   "execution_count": 19,
   "metadata": {},
   "outputs": [
    {
     "name": "stdout",
     "output_type": "stream",
     "text": [
      "              precision    recall  f1-score   support\n",
      "\n",
      "           1       0.57      0.70      0.63        23\n",
      "           2       0.88      0.81      0.84        63\n",
      "\n",
      "    accuracy                           0.78        86\n",
      "   macro avg       0.73      0.75      0.74        86\n",
      "weighted avg       0.80      0.78      0.79        86\n",
      "\n",
      "[[16  7]\n",
      " [12 51]]\n"
     ]
    },
    {
     "data": {
      "image/png": "[encoded data removed]",
      "text/plain": [
       "<Figure size 432x432 with 1 Axes>"
      ]
     },
     "metadata": {
      "needs_background": "light"
     },
     "output_type": "display_data"
    }
   ],
   "source": [
    "from sklearn.datasets import load_iris\n",
    "from sklearn.model_selection import cross_val_score\n",
    "from sklearn.tree import DecisionTreeClassifier\n",
    "from sklearn import tree\n",
    "clf = tree.DecisionTreeClassifier(random_state=1)\n",
    "clf.fit(X_train, y_train)\n",
    "y_predicted = clf.predict(X_test)\n",
    "print(metrics.classification_report(y_test, y_predicted))\n",
    "print(metrics.confusion_matrix(y_test, y_predicted))\n",
    "\n",
    "%matplotlib inline\n",
    "import matplotlib.pyplot as plt\n",
    "fig, ax = plt.subplots()\n",
    "\n",
    "cmap=plt.cm.Oranges\n",
    "ax.imshow(metrics.confusion_matrix(y_test, y_predicted), cmap=cmap)\n",
    "fig.set_figwidth(6)   \n",
    "fig.set_figheight(6)   \n",
    "plt.show()"
   ]
  },
  {
   "cell_type": "code",
   "execution_count": 20,
   "metadata": {},
   "outputs": [
    {
     "name": "stdout",
     "output_type": "stream",
     "text": [
      "['ab', 'abbott', 'abc', 'abdelaziz', 'abduct', 'abe', 'abid', 'abil', 'abl', 'abolish', 'abort', 'abov', 'abraham', 'abram', 'abroad', 'absente', 'absolut', 'abus', 'academi', 'accent', 'accept', 'access', 'accid', 'accident', 'accomplish', 'accord', 'accost', 'account', 'accumul', 'accur', 'accus', 'acero', 'achiev', 'acid', 'acquitt', 'acr', 'acted', 'action', 'activ', 'activist', 'actor', 'actual', 'ad', 'adam', 'add', 'addict', 'addit', 'address', 'adelson', 'adjust', 'administr', 'administration', 'admir', 'admiss', 'admit', 'adopt', 'advanc', 'advantag', 'adventur', 'advers', 'adversari', 'advertis', 'advic', 'advis', 'advisor', 'advoc', 'aero', 'affair', 'affect', 'affection', 'affili', 'afflict', 'afford', 'affront', 'afghanistan', 'aficionado', 'afraid', 'african', 'afternoon', 'afterward', 'againthank', 'age', 'agenc', 'agenda', 'agent', 'aggrav', 'aggress', 'agit', 'ago', 'agre', 'agreement', 'agricultur', 'ahead', 'ai', 'aid', 'ainsley', 'air', 'airbus', 'aircraft', 'airplan', 'airport', 'airwav', 'airway', 'aisin', 'aisl', 'akron', 'alabama', 'alamo', 'alan', 'albuquerqu', 'alcohol', 'alex', 'alexandria', 'alfr', 'alfred', 'ali', 'alic', 'alien', 'alik', 'aliv', 'allah', 'allegi', 'alli', 'allianc', 'allison', 'allow', 'almighti', 'alon', 'alonzo', 'alreadi', 'alright', 'altar', 'altern', 'altogeth', 'altoona', 'aluminum', 'alvarado', 'alvarez', 'alway', 'alyssa', 'alzheim', 'aman', 'amateur', 'amaz', 'amazon', 'ambassador', 'ambit', 'ambiti', 'ambush', 'amd', 'amend', 'america', 'ami', 'ammunit', 'amnesti', 'amount', 'ana', 'analyst', 'anarchi', 'anarchist', 'ancestor', 'anchor', 'ancient', 'anderson', 'andi', 'andrea', 'andrew', 'ane', 'anesthesia', 'angel', 'angela', 'anger', 'angri', 'angrier', 'anguilla', 'ani', 'anim', 'anni', 'annihil', 'anniversari', 'announc', 'annual', 'anonym', 'anoth', 'answer', 'anthem', 'anti', 'anticip', 'antifa', 'antisemit', 'anxious', 'anybodi', 'anymor', 'anyon', 'anyplac', 'anyth', 'anytim', 'anywher', 'aoc', 'apach', 'apart', 'apolog', 'appeal', 'appear', 'appeas', 'appel', 'appetit', 'appl', 'applaud', 'applaus', 'appli', 'applic', 'appoint', 'appreci', 'apprehend', 'apprentic', 'apprenticeship', 'approach', 'appropri', 'approv', 'approxim', 'april', 'arab', 'arabia', 'architect', 'area', 'arena', 'argument', 'arithmet', 'arizona', 'arkansa', 'arlington', 'arm', 'armi', 'armstrong', 'arnold', 'arrest', 'arriv', 'arrow', 'arsenal', 'arsonist', 'art', 'articl', 'artifici', 'artilleri', 'artist', 'asham', 'asher', 'ashevill', 'asia', 'asian', 'asid', 'asleep', 'aspect', 'aspir', 'aspirin', 'ass', 'assad', 'assail', 'assault', 'assembl', 'assemblag', 'assess', 'assist', 'associ', 'assum', 'assumpt', 'astronaut', 'astronom', 'asylum', 'athlet', 'atlanta', 'atmospher', 'atroci', 'attack', 'attain', 'attempt', 'attend', 'attest', 'attitud', 'attorney', 'attract', 'audienc', 'audience', 'auditor', 'august', 'austin', 'author', 'authoritarian', 'auto', 'automat', 'automobil', 'automot', 'autowork', 'avail', 'avalanch', 'avenu', 'averag', 'aviat', 'avoid', 'aw', 'await', 'awak', 'awaken', 'awar', 'award', 'awesom', 'awhil', 'ay', 'ayanna', 'ayatollah', 'azar', 'babi', 'babin', 'backbon', 'backdoor', 'backfir', 'background', 'backlash', 'backstag', 'backstop', 'backyard', 'bacon', 'bad', 'bader', 'bag', 'baghdad', 'baghdadi', 'bahama', 'bahrain', 'baido', 'bail', 'bake', 'baker', 'balanc', 'bald', 'baldasaro', 'ball', 'ballgam', 'ballot', 'ballroom', 'baltimor', 'ban', 'band', 'bandana', 'bang', 'bank', 'banker', 'bankrupt', 'bankruptci', 'banner', 'bar', 'barack', 'barbara', 'barbour', 'bare', 'bargain', 'barletta', 'baron', 'barr', 'barrel', 'barren', 'barri', 'barrier', 'barron', 'bartiromo', 'base', 'basebal', 'based', 'basement', 'bash', 'basi', 'basic', 'basket', 'basketbal', 'bastard', 'bat', 'bathroom', 'batteri', 'batti', 'battl', 'battlefield', 'bay', 'bayer', 'bayfield', 'beach', 'beam', 'bean', 'bear', 'beast', 'beat', 'beaten', 'beauti', 'beaver', 'becam', 'becki', 'becom', 'bed', 'bedbug', 'bedrock', 'bedroom', 'beef', 'beep', 'beer', 'befor', 'beg', 'began', 'begun', 'behalf', 'behavior', 'behest', 'beij', 'belat', 'belichick', 'belief', 'believ', 'believers', 'belittl', 'bell', 'belong', 'belov', 'ben', 'bench', 'bend', 'beneath', 'beneficiari', 'benefit', 'benghazi', 'benjamin', 'benni', 'bent', 'bentley', 'bergman', 'berkeley', 'berlin', 'bern', 'bernhardt', 'berni', 'beshear', 'best', 'bet', 'beto', 'betray', 'better', 'bever', 'bevin', 'beyonc', 'bezo', 'bi', 'bias', 'bibl', 'bicycl', 'bid', 'biden', 'bigg', 'bigger', 'biggest', 'biggi', 'bike', 'bill', 'billboard', 'billi', 'billion', 'biloxi', 'bin', 'bind', 'bing', 'biofuel', 'biographi', 'bipartisan', 'bird', 'birth', 'birthday', 'birthplac', 'birthright', 'bishop', 'bit', 'bitch', 'bite', 'bitten', 'bizarr', 'black', 'blacklist', 'blackmail', 'blackout', 'blackston', 'blah', 'blain', 'blame', 'blank', 'blanket', 'blasio', 'blatant', 'blaze', 'bleed', 'bless', 'blew', 'blind', 'blink', 'block', 'blood', 'bloodi', 'bloodiest', 'bloodsh', 'bloodthirsti', 'bloomberg', 'blow', 'blower', 'blown', 'blue', 'bluff', 'board', 'boardwalk', 'boat', 'bob', 'bobbi', 'bodi', 'bodili', 'boe', 'bog', 'boiler', 'boilermak', 'bold', 'bomb', 'bomber', 'bond', 'bondi', 'bone', 'bong', 'bongino', 'boo', 'boobi', 'book', 'booker', 'boom', 'boost', 'boot', 'booth', 'border', 'bore', 'born', 'borrow', 'bosom', 'boss', 'bossi', 'boston', 'botch', 'bother', 'bottl', 'bottom', 'bought', 'boulder', 'bound', 'boundari', 'boundless', 'bout', 'bow', 'bower', 'bowi', 'bowman', 'bowser', 'box', 'boy', 'boyfriend', 'brad', 'bradi', 'brag', 'bragg', 'brain', 'branch', 'brand', 'brandau', 'brandon', 'brat', 'brave', 'braveri', 'brazen', 'brazil', 'break', 'breakfast', 'breaking', 'breakout', 'breakthrough', 'breakup', 'breath', 'breed', 'breitbart', 'brett', 'brian', 'briberi', 'brick', 'bridg', 'brien', 'bright', 'brighter', 'brilliant', 'bring', 'britain', 'british', 'brittani', 'broadcast', 'broke', 'broken', 'brook', 'brooklyn', 'broomfield', 'brother', 'brotton', 'brought', 'brouillett', 'brown', 'bruce', 'brutal', 'bryan', 'bryant', 'buck', 'bucket', 'buckey', 'buddi', 'budg', 'budget', 'budgetari', 'buffalo', 'bug', 'build', 'builder', 'building', 'built', 'bulb', 'bull', 'bullet', 'bulli', 'bullshit', 'bum', 'bumblebe', 'bunch', 'bur', 'burden', 'burdensom', 'bureau', 'bureaucraci', 'bureaucrat', 'burger', 'burglari', 'buri', 'burn', 'burner', 'burnett', 'bus', 'buse', 'bush', 'bushi', 'busi', 'businessman', 'businessmen', 'businesspeopl', 'bussey', 'bust', 'buster', 'butcher', 'butler', 'buttigieg', 'button', 'buut', 'buy', 'buyer', 'buzz', 'bye', 'bystand', 'cabl', 'cadet', 'cag', 'cage', 'cake', 'cal', 'calam', 'calamit', 'california', 'caliph', 'call', 'callahan', 'called', 'calm', 'cambridg', 'camden', 'camel', 'camera', 'cameron', 'cammack', 'camp', 'campaign', 'canada', 'canal', 'cancel', 'cancer', 'candi', 'candid', 'canist', 'canon', 'cant', 'cap', 'capabl', 'capit', 'capitol', 'captain', 'captur', 'car', 'caravan', 'carbon', 'card', 'care', 'career', 'cargo', 'cari', 'carlo', 'carlson', 'carnahan', 'carnegi', 'carolina', 'carolyn', 'carri', 'carriag', 'carrier', 'carson', 'cartel', 'carter', 'carton', 'carv', 'cas', 'case', 'casey', 'cash', 'casino', 'cast', 'castl', 'castro', 'casual', 'casualti', 'catapult', 'catastroph', 'catch', 'catcher', 'categori', 'caterpillar', 'catherin', 'cathol', 'cattl', 'caucus', 'caught', 'caus', 'cautious', 'cavanaugh', 'cave', 'cavuto', 'cbs', 'cdc', 'ceasefir', 'cedar', 'cede', 'ceil', 'cejudo', 'celebr', 'cell', 'cement', 'cemeteri', 'censor', 'censorship', 'cent', 'center', 'central', 'centuri', 'certainti', 'cetera', 'chabot', 'chain', 'chair', 'chairman', 'chairmen', 'chairwoman', 'challeng', 'champ', 'champagn', 'champion', 'championship', 'chamption', 'chanc', 'chaney', 'chang', 'changer', 'chant', 'chao', 'chaotic', 'charact', 'character', 'charad', 'charg', 'charisma', 'chariti', 'charleston', 'charlott', 'chart', 'charter', 'chase', 'chatfield', 'cheap', 'cheapen', 'cheaper', 'cheat', 'cheater', 'check', 'cheekbon', 'cheer', 'cheerlead', 'chelsea', 'chemistri', 'chemistry', 'cherish', 'cherri', 'chest', 'chicago', 'chicken', 'chief', 'child', 'childbirth', 'childcar', 'childhood', 'children', 'chile', 'china', 'chinatown', 'chines', 'chip', 'chocol', 'choic', 'choke', 'choker', 'choos', 'chop', 'chose', 'chosen', 'chris', 'christi', 'christian', 'christma', 'christoph', 'chronic', 'chrysl', 'chrysler', 'chuck', 'chunk', 'church', 'churchil', 'cincinnati', 'cindi', 'circl', 'circuit', 'circumst', 'citi', 'citizen', 'citizens', 'civil', 'civilian', 'claim', 'clap', 'claremont', 'clark', 'class', 'classic', 'classifi', 'classroom', 'claus', 'clean', 'cleaner', 'cleanest', 'clear', 'clearer', 'clemenc', 'cleric', 'cleveland', 'cliff', 'clifton', 'climat', 'climb', 'climber', 'clinic', 'clinton', 'clintonit', 'clip', 'clock', 'clog', 'close', 'closer', 'closest', 'closet', 'cloud', 'clown', 'clue', 'clueless', 'clutch', 'cnbc', 'cnn', 'coach', 'coal', 'coalit', 'coast', 'coaster', 'coat', 'cocain', 'cocki', 'coerc', 'coffin', 'coin', 'colbi', 'cold', 'cole', 'collaps', 'collar', 'colleagu', 'collect', 'colleg', 'collin', 'collud', 'collus', 'colombian', 'colonel', 'color', 'colorado', 'coloss', 'columbia', 'columbus', 'column', 'comb', 'combat', 'combin', 'comcast', 'comeback', 'comedian', 'comer', 'comey', 'comfort', 'comic', 'comm', 'comma', 'command', 'commenc', 'comment', 'commerc', 'commerci', 'commicast', 'commiss', 'commission', 'commit', 'committe', 'committeeman', 'common', 'commonwealth', 'communism', 'communist', 'communiti', 'compactor', 'compani', 'compar', 'comparison', 'compass', 'compel', 'compet', 'competit', 'competitor', 'complain', 'complaint', 'complet', 'complex', 'complic', 'compliment', 'compromis', 'comput', 'computer', 'con', 'conan', 'concast', 'conceal', 'conceiv', 'concentr', 'concept', 'concern', 'concess', 'conclud', 'conclus', 'concord', 'concret', 'condemn', 'condit', 'conduct', 'confeder', 'confer', 'confid', 'confidenti', 'confirm', 'confisc', 'conflict', 'conform', 'confront', 'confus', 'congratul', 'congreg', 'congress', 'congression', 'congressman', 'congressmen', 'congresspeopl', 'congresswoman', 'congresswomen', 'conley', 'connect', 'connelli', 'conor', 'consent', 'consequ', 'consequenti', 'conserv', 'consid', 'consider', 'conspir', 'conspiraci', 'constant', 'constitu', 'constitut', 'construct', 'consult', 'consum', 'contact', 'contagi', 'contempl', 'contemporari', 'contempt', 'content', 'contest', 'contin', 'continu', 'contract', 'contractor', 'contrari', 'contrast', 'contribut', 'contributor', 'control', 'controversi', 'convent', 'convers', 'convert', 'convict', 'convinc', 'conway', 'cooki', 'cool', 'cooler', 'coolest', 'coop', 'cooper', 'coordin', 'cop', 'copi', 'corey', 'cori', 'corki', 'corkscrew', 'corn', 'corner', 'cornyn', 'corona', 'coronavirus', 'corp', 'corpor', 'correct', 'corrupt', 'cortez', 'cost', 'cotton', 'couldn', 'council', 'counsel', 'count', 'counter', 'counteract', 'countertop', 'counti', 'countless', 'countries', 'country', 'countrysid', 'coup', 'coupl', 'courag', 'cours', 'court', 'courtesi', 'courthous', 'cover', 'coverag', 'covid', 'covington', 'cow', 'coward', 'cowboy', 'cower', 'cowork', 'cox', 'cozi', 'crack', 'crackpot', 'craftsmen', 'craig', 'cram', 'cranberri', 'crap', 'crash', 'crasson', 'crater', 'craze', 'crazi', 'craziest', 'crazy', 'creat', 'created', 'creation', 'creator', 'credenti', 'credibl', 'credit', 'creed', 'creek', 'creep', 'creme', 'crescendo', 'crew', 'cri', 'cricket', 'crim', 'crime', 'crimin', 'crippl', 'crisi', 'critic', 'crockett', 'cronkit', 'crook', 'crop', 'cross', 'crossfir', 'crossov', 'crosstalk', 'crowd', 'crowley', 'crown', 'crucial', 'crude', 'cruel', 'cruis', 'crumbl', 'crummi', 'crusad', 'crusades', 'crush', 'cruz', 'crystal', 'cub', 'cuba', 'cuban', 'cubic', 'cue', 'cueto', 'cuff', 'cult', 'cultur', 'cumberland', 'cun', 'cuomo', 'cup', 'cupboard', 'cupp', 'cure', 'curios', 'curious', 'currenc', 'current', 'curri', 'curtain', 'curv', 'custer', 'custodi', 'custom', 'cut', 'cuts', 'cutter', 'cutting', 'cuyahoga', 'cyber', 'cycl', 'daca', 'dad', 'daddi', 'daili', 'dairi', 'dakota', 'dale', 'dalla', 'dam', 'damag', 'dammit', 'damn', 'dan', 'dana', 'danc', 'danger', 'dangerous', 'daniel', 'dare', 'dark', 'darl', 'dash', 'data', 'daughter', 'dave', 'davenport', 'davi', 'david', 'davidson', 'day', 'dayton', 'dc', 'de', 'dead', 'deal', 'dealer', 'deals', 'dealt', 'dear', 'death', 'deaths', 'deb', 'debacl', 'debat', 'debbi', 'debt', 'debunk', 'decad', 'decapit', 'decay', 'deceit', 'deceiv', 'decenc', 'decent', 'decept', 'decid', 'decim', 'decis', 'deck', 'declar', 'declin', 'decoupl', 'decreas', 'decri', 'dedic', 'deduct', 'deep', 'deepen', 'deeper', 'deepli', 'deer', 'defeat', 'defend', 'defens', 'defenseless', 'defi', 'defianc', 'deficit', 'definit', 'defraud', 'defund', 'degener', 'degre', 'dejoy', 'del', 'delano', 'delawar', 'delay', 'delbert', 'deleg', 'delet', 'deliber', 'delight', 'delinqu', 'deliv', 'delusion', 'dem', 'demand', 'demean', 'dement', 'demilitar', 'democraci', 'democrat', 'demolish', 'demonstr', 'demot', 'den', 'deni', 'denigr', 'denni', 'denounc', 'denver', 'depart', 'depend', 'deplet', 'depleted', 'deplor', 'deploy', 'deport', 'depot', 'deprav', 'depress', 'deputi', 'derang', 'derbi', 'derek', 'derogatori', 'derrick', 'dershowitz', 'des', 'desanti', 'describ', 'desecr', 'desert', 'deserv', 'design', 'desk', 'despair', 'desper', 'despit', 'despite', 'destin', 'destini', 'destroy', 'destroying', 'destruct', 'detail', 'detain', 'detect', 'detent', 'determin', 'detroit', 'devalu', 'devast', 'develop', 'devin', 'devis', 'devot', 'dew', 'dewin', 'dewitt', 'diabet', 'dialysi', 'diamond', 'dick', 'dictat', 'dictatorship', 'die', 'diego', 'differ', 'difficult', 'difficulti', 'dig', 'digniti', 'dim', 'diner', 'dinesh', 'dingel', 'dinner', 'diploma', 'direct', 'dirt', 'dirti', 'dirtier', 'dirty', 'disabl', 'disadvantag', 'disagre', 'disappear', 'disappoint', 'disapprov', 'disarm', 'disast', 'disaster', 'disastr', 'discard', 'disclos', 'discount', 'discourag', 'discov', 'discoveri', 'discredit', 'discrimin', 'discuss', 'discussing', 'disdain', 'diseas', 'disgrac', 'disguis', 'disgust', 'dish', 'dishon', 'dishonest', 'dishonesti', 'dishonor', 'dishwash', 'disillus', 'disincent', 'disinform', 'disintegr', 'dislik', 'disloyalti', 'dismantl', 'dismember', 'disord', 'disparag', 'displac', 'display', 'disproven', 'disput', 'disrepair', 'disrespect', 'disrupt', 'dissent', 'dissolv', 'distanc', 'distinct', 'distinguish', 'distract', 'distress', 'distribut', 'district', 'disturb', 'divert', 'divest', 'divid', 'divis', 'divorc', 'dix', 'dixvill', 'dj', 'dnc', 'dobb', 'doc', 'dock', 'doctor', 'doctrin', 'document', 'documents', 'dodg', 'doe', 'dog', 'dogcatch', 'dollar', 'domain', 'domest', 'domin', 'dona', 'donald', 'donat', 'donna', 'donnel', 'donni', 'donor', 'doodi', 'doom', 'door', 'doornail', 'dope', 'dorian', 'dossier', 'dot', 'doubl', 'double', 'doubt', 'doucett', 'doucette', 'doug', 'dougla', 'dous', 'dover', 'dow', 'downfal', 'downhil', 'downstair', 'downturn', 'dozen', 'dpp', 'dr', 'draft', 'drag', 'drain', 'dramat', 'draw', 'drawn', 'dream', 'dreamer', 'dreamt', 'drench', 'dress', 'drew', 'dri', 'drill', 'drink', 'drinker', 'drip', 'drive', 'driven', 'drone', 'drop', 'drove', 'drudg', 'drug', 'drum', 'dual', 'dublin', 'ducett', 'ducey', 'duck', 'duffi', 'dug', 'duluth', 'dumb', 'dumber', 'dumbest', 'dump', 'duncan', 'dung', 'dup', 'duper', 'durango', 'durat', 'dure', 'durham', 'duti', 'dynasti', 'eagl', 'ear', 'earli', 'earlier', 'earliest', 'earn', 'earner', 'earth', 'easi', 'easier', 'easiest', 'easili', 'east', 'eastern', 'eat', 'eaten', 'ebay', 'econom', 'economi', 'economy', 'edenvill', 'edg', 'edison', 'editor', 'editori', 'educ', 'effort', 'egg', 'ego', 'egregi', 'eighth', 'el', 'elder', 'elect', 'electable', 'electedth', 'election', 'elector', 'electr', 'electrocut', 'eleg', 'element', 'elev', 'elimin', 'elis', 'elit', 'elizabeth', 'elko', 'ell', 'ellington', 'ellison', 'elon', 'els', 'elsewher', 'elvi', 'email', 'eman', 'embarrass', 'embassi', 'ember', 'embodi', 'embolden', 'emboldened', 'embrac', 'emerg', 'emin', 'emir', 'emiss', 'emmer', 'emolu', 'empir', 'employ', 'employe', 'empow', 'empti', 'enabl', 'enact', 'encourag', 'endang', 'endless', 'endors', 'endur', 'enemi', 'energ', 'energet', 'energi', 'enforc', 'enforcement', 'engag', 'engin', 'england', 'english', 'enhanc', 'enjoy', 'enorm', 'enrag', 'enrich', 'ensur', 'enter', 'enterpris', 'entertain', 'enthus', 'enthusiasm', 'enthusiast', 'entir', 'entitl', 'entranc', 'entri', 'entrust', 'entryway', 'envi', 'envious', 'environ', 'environment', 'environmentalist', 'epidem', 'episod', 'equal', 'equat', 'equip', 'equival', 'era', 'erad', 'eras', 'erdogan', 'eri', 'eric', 'ernst', 'erod', 'error', 'erwin', 'escal', 'especi', 'esper', 'espn', 'essahki', 'essenti', 'establish', 'estat', 'etern', 'ethanol', 'eulog', 'europ', 'european', 'ev', 'evangel', 'eve', 'event', 'eventu', 'everest', 'everi', 'everlast', 'everybodi', 'everyday', 'everyon', 'everyth', 'everywher', 'evid', 'evil', 'eviscer', 'evolv', 'exact', 'exagger', 'examin', 'exampl', 'excel', 'excess', 'exchang', 'excit', 'exclus', 'exculp', 'excus', 'execut', 'exempt', 'exercis', 'exert', 'exhaust', 'exist', 'exit', 'exodus', 'exoner', 'expand', 'expans', 'expect', 'expedit', 'expel', 'expens', 'experi', 'experienc', 'experiment', 'expert', 'expir', 'explain', 'explod', 'explor', 'explos', 'export', 'expos', 'exposur', 'express', 'extend', 'extent', 'exterior', 'extra', 'extraordinari', 'extrem', 'extremist', 'exxon', 'ey', 'eye', 'faber', 'fabul', 'face', 'facebook', 'facil', 'facilit', 'fact', 'factor', 'factori', 'fade', 'fail', 'failur', 'fair', 'fairly', 'fairway', 'faith', 'fake', 'faker', 'fall', 'fallen', 'fals', 'falsifi', 'famili', 'familiar', 'famous', 'fan', 'fanat', 'fann', 'fantasi', 'fantast', 'fantastic', 'faraway', 'fare', 'farm', 'farmer', 'farther', 'fascin', 'fascism', 'fascist', 'fashion', 'fast', 'faster', 'fastest', 'fat', 'fatal', 'fate', 'father', 'faucet', 'fauci', 'fault', 'fave', 'favor', 'favorit', 'fawn', 'fayett', 'fayettevill', 'fbi', 'fda', 'fear', 'februari', 'fed', 'feder', 'federalist', 'fee', 'feed', 'feel', 'feeli', 'feet', 'fell', 'fella', 'fellow', 'felon', 'feloni', 'felt', 'fema', 'femal', 'fenc', 'fentanyl', 'fertitta', 'fest', 'fewer', 'fewest', 'fiat', 'fib', 'fiction', 'fictiti', 'field', 'fierc', 'fifti', 'fifty', 'fight', 'fighter', 'figur', 'fil', 'fill', 'filth', 'filthi', 'final', 'financ', 'financi', 'find', 'fine', 'finest', 'finger', 'finish', 'fiorello', 'fiorina', 'fire', 'firearm', 'firefight', 'firehous', 'firemen', 'firesid', 'firewal', 'firework', 'firm', 'fisa', 'fischbach', 'fish', 'fishermen', 'fist', 'fit', 'fitch', 'fitzgerald', 'fizzl', 'flag', 'flagstaff', 'flail', 'flailer', 'flame', 'flare', 'flat', 'flatlin', 'flawless', 'flee', 'fleec', 'flew', 'flexibl', 'fli', 'flight', 'flimsi', 'flinch', 'flint', 'flip', 'float', 'flood', 'floodgat', 'floor', 'flop', 'florida', 'flourish', 'flow', 'flower', 'flown', 'floyd', 'flu', 'flyer', 'flynn', 'focus', 'foe', 'foist', 'fold', 'folk', 'follow', 'folwel', 'fond', 'food', 'fool', 'foolish', 'foot', 'footag', 'footbal', 'footer', 'footprint', 'forb', 'forc', 'ford', 'forecast', 'foreclosur', 'foreign', 'foreperson', 'foresight', 'forest', 'forev', 'forg', 'forget', 'forgiv', 'forgot', 'forgotten', 'form', 'format', 'formula', 'fort', 'forti', 'fortun', 'forum', 'forward', 'fossil', 'foster', 'fought', 'founder', 'fourth', 'fox', 'foxconn', 'frack', 'fracker', 'fraction', 'fragment', 'frame', 'franc', 'francisco', 'frank', 'franklin', 'fratern', 'fraud', 'fraudster', 'fraudul', 'freak', 'fred', 'fredericksburg', 'fredo', 'free', 'freed', 'freedom', 'freelanc', 'freeland', 'freeli', 'freez', 'freita', 'french', 'fresh', 'frick', 'friday', 'friedman', 'friend', 'friendship', 'fring', 'front', 'frontier', 'frost', 'frozen', 'fruit', 'fs', 'fuel', 'fulfil', 'full', 'fullest', 'fulli', 'fume', 'fun', 'fund', 'fundament', 'fundrais', 'funer', 'funni', 'furor', 'furthermor', 'furthest', 'futur', 'gabbard', 'gabl', 'gaddafi', 'gade', 'gaethj', 'gaetz', 'gag', 'gain', 'gal', 'gallagh', 'gallon', 'gallup', 'game', 'gandhi', 'gang', 'gap', 'garbag', 'garden', 'gardner', 'gargiulo', 'gas', 'gase', 'gasolin', 'gasp', 'gass', 'gate', 'gather', 'gavin', 'gazelka', 'gdp', 'gee', 'gene', 'gener', 'general', 'generat', 'generic', 'generous', 'genius', 'gentl', 'gentleman', 'gentlemen', 'georg', 'georgia', 'ger', 'german', 'germani', 'gestur', 'gettysburg', 'giant', 'gift', 'gigant', 'gilmor', 'ginger', 'gingrich', 'ginsburg', 'ginseng', 'gipson', 'girl', 'giuliani', 'glad', 'glamor', 'glanc', 'glass', 'gleam', 'glen', 'glenn', 'global', 'globalist', 'globe', 'glong', 'glori', 'glorifi', 'glorious', 'glove', 'glu', 'glue', 'goal', 'goaltend', 'god', 'goddamn', 'goe', 'goggl', 'gohmert', 'golan', 'gold', 'golden', 'golem', 'golf', 'golfer', 'gonzalez', 'goodby', 'goodel', 'gooden', 'goodnight', 'goodwin', 'googl', 'gop', 'gorgeous', 'gorsuch', 'gosar', 'govern', 'government', 'governor', 'governorship', 'gown', 'goya', 'grab', 'grabber', 'grace', 'gracious', 'grade', 'graham', 'grammar', 'grand', 'grandchild', 'grandchildren', 'granddaught', 'grander', 'grandfath', 'grandson', 'granger', 'granit', 'grant', 'grass', 'grassley', 'grate', 'gratifi', 'gratitud', 'grave', 'graveyard', 'gray', 'greater', 'greatest', 'green', 'greeni', 'greensboro', 'greenvill', 'greenwood', 'greet', 'greg', 'gregg', 'grenel', 'gretta', 'grew', 'griev', 'grill', 'grin', 'grit', 'grizzli', 'groceri', 'gross', 'grossli', 'grothman', 'ground', 'groundbreak', 'group', 'grow', 'grower', 'grown', 'growth', 'gruesom', 'guarante', 'guard', 'guardia', 'guardsmen', 'guatemala', 'guess', 'guest', 'guid', 'guilfoyl', 'guilti', 'guitar', 'gulfport', 'gulfstream', 'gum', 'gun', 'gunfir', 'gut', 'gutfeld', 'guthri', 'guzzler', 'gym', 'gymnasium', 'ha', 'habit', 'hack', 'hadn', 'hagedorn', 'hair', 'haircut', 'hairpiec', 'hairspray', 'hal', 'haleigh', 'haley', 'half', 'halfwit', 'hall', 'hallway', 'halt', 'hamburg', 'hammer', 'hampshir', 'hand', 'handicap', 'handl', 'handler', 'handpick', 'handrail', 'handsom', 'hang', 'hangar', 'hanger', 'hanniti', 'happened', 'happi', 'happier', 'happiest', 'happili', 'harass', 'harbor', 'hard', 'harden', 'harder', 'hardest', 'hardwork', 'harm', 'harmon', 'harrel', 'harri', 'harrington', 'harris', 'harrisburg', 'harrison', 'harvard', 'harvest', 'hat', 'hate', 'hater', 'hatr', 'haunt', 'hawaii', 'hawk', 'hawkey', 'hazard', 'head', 'headach', 'headlin', 'headquart', 'headwind', 'heal', 'health', 'healthcar', 'healthi', 'heap', 'hear', 'heard', 'heart', 'heartbreak', 'hearti', 'heartland', 'heartless', 'heat', 'heaven', 'heavi', 'heavier', 'heavili', 'heck', 'hegseth', 'hehe', 'height', 'heinous', 'heinz', 'held', 'helicopt', 'hell', 'hello', 'helluva', 'helm', 'helmet', 'help', 'helped', 'henderson', 'henri', 'herd', 'heritag', 'hermit', 'hern', 'hero', 'heroic', 'heroin', 'herschel', 'hershey', 'hesit', 'hey', 'hezbollah', 'hick', 'hidden', 'hide', 'hiden', 'high', 'higher', 'highest', 'highly', 'highway', 'hike', 'hill', 'hillari', 'hilton', 'himk', 'hinch', 'hint', 'hire', 'hispan', 'hispanic', 'histor', 'histori', 'historybiden', 'hit', 'hitler', 'hiv', 'hn', 'hni', 'ho', 'hoax', 'hockey', 'hokey', 'hold', 'holloman', 'hollow', 'hollywood', 'holt', 'hombr', 'homeland', 'homeless', 'homeown', 'homicid', 'hondura', 'hone', 'honest', 'honesti', 'honestly', 'honey', 'honeymoon', 'honor', 'hood', 'hookup', 'hoover', 'hop', 'hope', 'hopeless', 'hornet', 'horrend', 'horribl', 'horror', 'hors', 'hosemann', 'hospit', 'host', 'hostag', 'hostil', 'hot', 'hotel', 'hotspot', 'hotter', 'hottest', 'hour', 'hous', 'household', 'housewif', 'houston', 'howdi', 'howev', 'hoyer', 'hud', 'hudson', 'hug', 'huge', 'hugh', 'huh', 'hulk', 'hum', 'human', 'humanitarian', 'humor', 'humve', 'hundr', 'hunger', 'hunt', 'hunter', 'hurri', 'hurrican', 'hurt', 'husband', 'hussein', 'hust', 'hyde', 'hydraul', 'hydro', 'hyperpartisan', 'hypnot', 'hypocrit', 'hyster', 'hysteria', 'ice', 'idaho', 'idea', 'ideal', 'ident', 'identif', 'identifi', 'ideolog', 'ideologu', 'idiot', 'idl', 'ig', 'ignor', 'ih', 'ii', 'ilhan', 'ill', 'illeg', 'illicit', 'imag', 'image', 'imagin', 'imit', 'immedi', 'immens', 'immigr', 'immor', 'immun', 'impact', 'impeach', 'impeachment', 'imper', 'imperil', 'implement', 'implor', 'import', 'impos', 'imposs', 'impress', 'improp', 'improv', 'inaccur', 'inaud', 'incandesc', 'incens', 'incent', 'inch', 'inclin', 'includ', 'inclus', 'incom', 'incompet', 'incorrect', 'increas', 'incred', 'incumb', 'inde', 'indec', 'independ', 'indi', 'india', 'indian', 'indiana', 'indic', 'indict', 'indign', 'individu', 'indoctrin', 'indoor', 'industri', 'ineffect', 'ineleg', 'inequ', 'inexperienc', 'infect', 'infecti', 'infest', 'infiltr', 'inflict', 'influx', 'inform', 'infrar', 'infrastructur', 'ingraham', 'ingram', 'inherit', 'inhof', 'initi', 'injur', 'injuri', 'injustic', 'ink', 'inner', 'innoc', 'innov', 'insan', 'insid', 'insignific', 'insist', 'insle', 'inspect', 'inspector', 'inspir', 'instabl', 'instal', 'instanc', 'instant', 'instil', 'instinct', 'institut', 'instruct', 'insult', 'insur', 'insurance', 'insurmount', 'insurrect', 'integr', 'intellectu', 'intellig', 'intend', 'intens', 'intent', 'interest', 'interf', 'interior', 'intermitt', 'intern', 'internet', 'interpret', 'interrupt', 'interview', 'intimid', 'intoler', 'introduc', 'inund', 'invalid', 'invent', 'invest', 'investig', 'investment', 'investor', 'invit', 'invok', 'involv', 'iowa', 'iq', 'ir', 'iran', 'iranian', 'iraq', 'iron', 'irredeem', 'irvin', 'isi', 'isl', 'islam', 'island', 'isra', 'israel', 'issu', 'itali', 'italian', 'ivanka', 'iwo', 'jack', 'jacket', 'jackson', 'jacksonvill', 'jacob', 'jacobson', 'jail', 'jaishankar', 'jake', 'jame', 'jamestown', 'jane', 'januari', 'japan', 'japanes', 'jare', 'jase', 'jason', 'jay', 'jealousi', 'jeanin', 'jeb', 'jed', 'jeep', 'jeez', 'jeff', 'jefferson', 'jeffress', 'jennif', 'jeremi', 'jerk', 'jersey', 'jerusalem', 'jess', 'jessi', 'jet', 'jevich', 'jihadist', 'jij', 'jill', 'jim', 'jima', 'jinx', 'jobless', 'jockstrap', 'jodi', 'joe', 'joee', 'john', 'johnson', 'join', 'joint', 'joke', 'joker', 'jon', 'jone', 'jong', 'joni', 'jordan', 'jose', 'journal', 'journalist', 'journey', 'joyc', 'jr', 'jsw', 'juan', 'judd', 'judg', 'judge', 'judgeship', 'judi', 'judiciari', 'juli', 'julian', 'jump', 'jumpsuit', 'junction', 'june', 'jung', 'junior', 'junk', 'juri', 'jurisdict', 'jurist', 'juror', 'juster', 'justic', 'justifi', 'justin', 'kaitlan', 'kalamazoo', 'kamala', 'kamilla', 'kane', 'karen', 'kasich', 'kat', 'kathi', 'kaufmann', 'kavanaugh', 'kay', 'keen', 'keith', 'keller', 'kelli', 'kellogg', 'kellyann', 'kemp', 'ken', 'kendal', 'kennedi', 'kenneth', 'kenosha', 'kent', 'kentucki', 'kentuckian', 'kernel', 'kerri', 'kevin', 'key', 'keyston', 'kick', 'kicker', 'kid', 'kidnap', 'kidnapp', 'kidney', 'kiernan', 'kil', 'kill', 'killer', 'kim', 'kimber', 'kind', 'kindergarten', 'king', 'kirkland', 'kiss', 'kit', 'kitchen', 'kitti', 'kkk', 'klobuchar', 'knee', 'kneel', 'knew', 'knife', 'knight', 'knive', 'knock', 'knowledg', 'knowthos', 'korea', 'korean', 'kosovo', 'kraft', 'kroll', 'ks', 'kung', 'kurd', 'kushner', 'kustoff', 'la', 'lab', 'label', 'labor', 'laboratori', 'lack', 'laden', 'ladi', 'ladin', 'lag', 'laid', 'lake', 'lamb', 'lamborn', 'lame', 'lanc', 'lancast', 'land', 'landel', 'landlord', 'landmark', 'landslid', 'languag', 'lankford', 'laptop', 'lara', 'larg', 'larger', 'largest', 'largo', 'larri', 'las', 'late', 'latest', 'latino', 'latrob', 'latta', 'laugh', 'laughingstock', 'laughter', 'launch', 'laura', 'law', 'lawless', 'lawmak', 'lawn', 'lawrenc', 'lawsuit', 'lawyer', 'laxalt', 'lay', 'layer', 'layoff', 'lead', 'leader', 'leadership', 'leaflet', 'leagu', 'leah', 'leak', 'leaker', 'lean', 'leap', 'learn', 'leas', 'leather', 'leav', 'lectur', 'led', 'lee', 'left', 'lefti', 'leftist', 'leftov', 'leg', 'legaci', 'legal', 'legend', 'legendari', 'legisl', 'legislatur', 'legit', 'legitim', 'legitimat', 'lejeun', 'length', 'lenni', 'lesko', 'lesser', 'lesson', 'lester', 'lethal', 'letter', 'level', 'levelest', 'lever', 'levin', 'lewandowski', 'lewi', 'liabil', 'liabl', 'liar', 'lib', 'libel', 'liber', 'libertarian', 'liberti', 'libya', 'licens', 'lid', 'lie', 'lieuten', 'lif', 'life', 'lifesav', 'lifetim', 'lift', 'light', 'lightest', 'lighthize', 'lightweight', 'likewis', 'lima', 'limbaugh', 'limit', 'limitless', 'limp', 'lin', 'lincoln', 'lindel', 'lindsay', 'lindsey', 'lineman', 'link', 'lion', 'lip', 'liquefi', 'lisa', 'list', 'listen', 'lit', 'liter', 'litig', 'littl', 'live', 'livelihood', 'livingston', 'lizer', 'lizzi', 'lloyd', 'lng', 'lo', 'load', 'loan', 'lobbi', 'lobbyist', 'lobster', 'local', 'locat', 'lock', 'lockdown', 'loeffler', 'logan', 'logo', 'london', 'lone', 'long', 'longer', 'longest', 'longterm', 'longtim', 'looni', 'loophol', 'loos', 'loosen', 'loot', 'looter', 'lopsid', 'lorain', 'los', 'lose', 'loser', 'loss', 'lost', 'lotteri', 'lou', 'loud', 'louder', 'loui', 'louie', 'louisiana', 'louisvill', 'lousi', 'lov', 'love', 'lover', 'low', 'lower', 'lowest', 'loyal', 'loyalti', 'luca', 'luck', 'lucki', 'ludicr', 'ludicrous', 'lumberjack', 'lunaci', 'lunat', 'lung', 'lust', 'luther', 'luxuri', 'lynch', 'lyndon', 'lynn', 'ma', 'mach', 'machet', 'machin', 'machineri', 'mackinac', 'mad', 'madam', 'madison', 'mafia', 'maga', 'magazin', 'magic', 'magnet', 'magnific', 'maiden', 'mail', 'maim', 'main', 'mainland', 'mainstream', 'maintain', 'majest', 'major', 'maker', 'makeup', 'male', 'maloney', 'man', 'manag', 'management', 'manchest', 'mandat', 'manhattan', 'mani', 'maniac', 'manic', 'manifesto', 'manipul', 'mankind', 'manner', 'mansion', 'manslaught', 'manu', 'manufactur', 'map', 'mar', 'maraud', 'marbl', 'march', 'marchant', 'marcia', 'marco', 'marcus', 'margin', 'maria', 'mariano', 'maricopa', 'marin', 'marinett', 'marion', 'mark', 'market', 'markwayn', 'marri', 'marshal', 'martha', 'martin', 'marxist', 'maryland', 'mask', 'mason', 'mass', 'massachusett', 'massey', 'massiv', 'master', 'mastermind', 'match', 'matchstick', 'mate', 'math', 'matt', 'matter', 'matur', 'max', 'maximum', 'maxin', 'mayb', 'mayhem', 'mayor', 'mca', 'mccarthi', 'mcclain', 'mcclanahan', 'mcconnel', 'mccreadi', 'mcdaniel', 'mcdonald', 'mcgrath', 'mcguir', 'mckinley', 'mckissick', 'mcmaster', 'mcmuffin', 'mcrae', 'mcsalli', 'mcsally', 'meadow', 'meadowland', 'meal', 'meaner', 'meanest', 'meaningless', 'meant', 'meantim', 'meanwhil', 'measur', 'mechan', 'mecklenburg', 'med', 'medal', 'media', 'median', 'mediat', 'medic', 'medicaid', 'medicar', 'medicin', 'mediev', 'medium', 'meet', 'melania', 'melbourn', 'melt', 'member', 'members', 'memori', 'men', 'menac', 'mental', 'mention', 'merced', 'merci', 'meredith', 'merit', 'merri', 'merrimack', 'mesa', 'mess', 'messag', 'messeng', 'messner', 'met', 'metal', 'meth', 'method', 'metoo', 'metooer', 'metric', 'meuser', 'mexican', 'mexico', 'miami', 'mic', 'michael', 'michell', 'michigan', 'mick', 'microphon', 'mid', 'middl', 'middle', 'middleman', 'middlemen', 'middlesex', 'midnight', 'midst', 'midterm', 'midtown', 'midwest', 'mighti', 'migrain', 'migrant', 'migrat', 'mike', 'mikey', 'mild', 'mile', 'mileston', 'milit', 'militari', 'militarili', 'military', 'milk', 'mill', 'millenni', 'milton', 'milwauke', 'mind', 'minden', 'mine', 'miner', 'mini', 'minim', 'minimum', 'minist', 'minneapoli', 'minnesota', 'minor', 'minut', 'miracl', 'miracul', 'mischief', 'misde', 'misdemeanor', 'miser', 'mishit', 'misjudg', 'mispronounc', 'misrepres', 'misrepresent', 'missil', 'mission', 'mississippi', 'missouri', 'mistak', 'mister', 'mistreat', 'mitch', 'mitt', 'mix', 'mob', 'mobil', 'mode', 'model', 'moder', 'modern', 'moderna', 'modest', 'moham', 'moin', 'molest', 'mom', 'moment', 'mommi', 'mon', 'monday', 'monetari', 'money', 'mong', 'monmouth', 'monro', 'monster', 'monte', 'montgomeri', 'month', 'monument', 'mood', 'moolenaar', 'moon', 'moonwalk', 'moorhead', 'moral', 'moratorium', 'morgan', 'morhard', 'morn', 'morri', 'morristown', 'morrow', 'mors', 'mortal', 'mortgag', 'moscow', 'mosquito', 'mother', 'motion', 'motiv', 'motor', 'motorcad', 'motown', 'motto', 'mount', 'mountain', 'mourn', 'mouth', 'mouthpiec', 'move', 'movement', 'movi', 'mower', 'ms', 'msdnc', 'msnbc', 'mueller', 'muir', 'muller', 'mullin', 'multipl', 'multipli', 'mulvaney', 'mumbai', 'mumbl', 'murder', 'murphi', 'muscl', 'muser', 'museum', 'musician', 'musk', 'mustang', 'mutil', 'muzzl', 'myron', 'myrtl', 'nafta', 'nah', 'nail', 'naiv', 'nanci', 'nancy', 'narco', 'narcot', 'narrat', 'narrow', 'nasa', 'nasdaq', 'nashua', 'nasti', 'nation', 'nationand', 'nationwid', 'nativ', 'nato', 'natur', 'navajo', 'naval', 'navi', 'nazi', 'nba', 'nbc', 'ncaa', 'nearbi', 'nearest', 'nebraska', 'necessari', 'necessarili', 'neck', 'needi', 'needl', 'needless', 'negat', 'neglect', 'negoti', 'neighbor', 'neighborhood', 'neil', 'nelli', 'neo', 'neonat', 'nervous', 'nest', 'net', 'netanyahu', 'network', 'neuman', 'neutral', 'nevada', 'newcom', 'newer', 'newest', 'newli', 'newly', 'newman', 'newport', 'news', 'newscast', 'newser', 'newsom', 'newspap', 'newt', 'nfl', 'nh', 'nicaragua', 'nice', 'nicer', 'nicest', 'nick', 'nicknam', 'night', 'nightmar', 'nighttim', 'ninth', 'nittani', 'nixon', 'nobel', 'nobl', 'nobodi', 'nois', 'noisi', 'nomin', 'nomine', 'nonpartisan', 'nonsens', 'nonstop', 'nope', 'norfolk', 'norm', 'normal', 'norman', 'north', 'northern', 'nose', 'note', 'noth', 'notic', 'notif', 'notifi', 'novemb', 'nowaday', 'nowher', 'nrcc', 'nuclear', 'nucor', 'nude', 'nugget', 'nullif', 'nullifi', 'number', 'numer', 'nunez', 'nurs', 'nut', 'oakland', 'oakley', 'oan', 'oasi', 'oath', 'obama', 'obamacar', 'obey', 'obhof', 'obiden', 'object', 'oblig', 'obliter', 'obsess', 'obsolet', 'obstruct', 'obstructionist', 'obvious', 'ocasio', 'occas', 'ocean', 'octob', 'odd', 'offend', 'offens', 'offer', 'offic', 'office', 'officers', 'offici', 'offshor', 'oftentim', 'ohio', 'oil', 'oklahoma', 'older', 'olymp', 'omar', 'omiss', 'onc', 'onli', 'onlin', 'onstag', 'onward', 'oop', 'opec', 'open', 'oper', 'opera', 'opinion', 'opioid', 'oppon', 'opponents', 'opportun', 'oppos', 'opposit', 'oppress', 'oprah', 'optim', 'optimist', 'option', 'oracl', 'orang', 'orden', 'order', 'ordin', 'ore', 'oregon', 'organ', 'origin', 'orion', 'orlando', 'orlean', 'orphan', 'osama', 'oshkosh', 'otherwis', 'ounc', 'ourself', 'ourselv', 'outbreak', 'outcom', 'outdoor', 'outfit', 'outlaw', 'outrag', 'outright', 'outsid', 'outsourc', 'outsourcing', 'outspent', 'outstand', 'outweigh', 'ov', 'oval', 'ovat', 'overal', 'overcrowd', 'overdos', 'overground', 'overnight', 'overpay', 'overr', 'overrod', 'overrun', 'oversaw', 'oversea', 'overstay', 'overtak', 'overthrow', 'overturn', 'overwhelm', 'overwork', 'owe', 'owen', 'owner', 'ownership', 'ozon', 'pace', 'pacif', 'pack', 'packag', 'packer', 'paddi', 'paddl', 'paduchik', 'paid', 'pain', 'paint', 'pajama', 'pal', 'palm', 'palmer', 'pam', 'pan', 'panama', 'pandem', 'panel', 'panhandl', 'panic', 'panick', 'paper', 'paperwork', 'paragraph', 'paralyz', 'paramount', 'pardon', 'parent', 'pari', 'park', 'parkinson', 'parlor', 'parnel', 'parscal', 'parson', 'parti', 'partial', 'particip', 'partisan', 'partner', 'partners', 'partnership', 'party', 'paso', 'pass', 'passion', 'password', 'pastor', 'pat', 'patch', 'patchwork', 'paterson', 'path', 'pathet', 'patholog', 'pathway', 'patient', 'patrick', 'patriot', 'patrol', 'patterson', 'paul', 'paus', 'pavarotti', 'pawn', 'paxton', 'pay', 'paycheck', 'payment', 'payoff', 'peac', 'peak', 'peanut', 'pearc', 'peddl', 'pediatr', 'pelosi', 'pembrok', 'pen', 'penalti', 'penc', 'pencil', 'penn', 'pennacchio', 'pennant', 'penni', 'pennington', 'pennsylvania', 'pensacola', 'pension', 'pensk', 'pepper', 'percent', 'percentag', 'percentage', 'perdu', 'perfect', 'perform', 'perhap', 'peril', 'period', 'perish', 'perman', 'permiss', 'permit', 'perot', 'perpetr', 'perri', 'persecut', 'person', 'perspect', 'persuas', 'pervas', 'pervers', 'pete', 'peter', 'peterson', 'petro', 'petrochem', 'petroleum', 'petrona', 'pfizer', 'pharma', 'pharmaceut', 'pharmaci', 'phase', 'phds', 'phenomen', 'phenomena', 'phil', 'philadelphia', 'philosophi', 'phoenix', 'phone', 'phoney', 'phoni', 'phrase', 'physic', 'physician', 'pick', 'pickup', 'pictur', 'piec', 'pig', 'piggi', 'pile', 'pill', 'pillag', 'pillow', 'pilot', 'pin', 'pinata', 'pinnel', 'pinocchio', 'pioneer', 'pipelin', 'piraci', 'pit', 'pitcher', 'pitt', 'pittsburgh', 'pj', 'plac', 'place', 'plagiar', 'plagu', 'plan', 'plane', 'planet', 'plank', 'plant', 'plasma', 'plastic', 'plate', 'platform', 'play', 'player', 'plead', 'pleas', 'pleasant', 'pleasur', 'pledg', 'plenti', 'plethora', 'plot', 'plug', 'plummet', 'plunder', 'plung', 'plural', 'plymouth', 'pneumonia', 'pocahonta', 'pocket', 'podium', 'point', 'poison', 'poland', 'pole', 'polic', 'policeman', 'policemen', 'polici', 'polit', 'politic', 'politician', 'politicians', 'politick', 'poll', 'pollack', 'poller', 'pollster', 'pollut', 'pompeo', 'pompous', 'pond', 'pool', 'poor', 'pop', 'popcorn', 'popul', 'popular', 'pork', 'port', 'portion', 'portland', 'portman', 'portray', 'portsmouth', 'posit', 'possess', 'possibl', 'post', 'postal', 'pot', 'potenti', 'pothol', 'poultri', 'pound', 'pour', 'poverti', 'power', 'powerhous', 'ppp', 'pr', 'practic', 'prais', 'pray', 'prayer', 'pre', 'preach', 'preacher', 'preced', 'precinct', 'precious', 'precis', 'predat', 'predict', 'preexist', 'prefac', 'prefer', 'preliminari', 'premier', 'premium', 'prep', 'prepar', 'prepared', 'preposter', 'pres', 'prescrib', 'prescript', 'preserv', 'president', 'presidenti', 'presidential', 'presley', 'press', 'pressl', 'pressur', 'prestig', 'prestigi', 'pretend', 'pretends', 'pretti', 'prettyso', 'pretzel', 'prevail', 'prevent', 'previous', 'pri', 'price', 'priceless', 'pride', 'priebus', 'primari', 'prime', 'primetim', 'princ', 'princeton', 'princip', 'principl', 'print', 'prior', 'prioriti', 'prison', 'pristin', 'privaci', 'privat', 'private', 'privileg', 'prize', 'pro', 'probabl', 'problem', 'procedur', 'proceed', 'process', 'produc', 'product', 'profession', 'profit', 'profound', 'profus', 'program', 'progress', 'prohibit', 'project', 'prom', 'promin', 'promis', 'promot', 'pron', 'pronounc', 'pronunci', 'proof', 'prop', 'propaganda', 'propel', 'proper', 'properti', 'propon', 'proport', 'proportion', 'propos', 'pros', 'prosecut', 'prosecutor', 'prospector', 'prosper', 'protect', 'protest', 'protestor', 'protocol', 'prove', 'proven', 'provid', 'provinc', 'provis', 'provisor', 'psychiatrist', 'public', 'publish', 'pueblo', 'puerto', 'pulitz', 'pull', 'pump', 'punch', 'punish', 'punit', 'puppet', 'puppi', 'purchas', 'purdu', 'pure', 'purpl', 'purpos', 'purs', 'pursu', 'pursuit', 'push', 'putin', 'qaeda', 'qasam', 'qasem', 'qasen', 'quadrupl', 'qualifi', 'qualiti', 'quantiti', 'quarantin', 'quarl', 'quarter', 'quarterback', 'qud', 'queen', 'quell', 'question', 'quick', 'quicksand', 'quid', 'quiet', 'quit', 'quiver', 'quo', 'quot', 'rabid', 'race', 'rachel', 'racial', 'racist', 'radial', 'radic', 'radical', 'radio', 'rag', 'rage', 'raid', 'rail', 'railroad', 'rain', 'rais', 'raisin', 'raleigh', 'ralli', 'ralph', 'ram', 'ramp', 'rampag', 'rampant', 'ramsey', 'ranch', 'rancher', 'rand', 'rander', 'randi', 'random', 'rang', 'rank', 'ransack', 'rant', 'rap', 'rape', 'rapid', 'rapist', 'rare', 'rashida', 'rasmussen', 'rat', 'ratcliff', 'rate', 'ration', 'rational', 'ratliff', 'rattl', 'ravag', 'rave', 'ravish', 'reach', 'react', 'reaction', 'read', 'readi', 'reaffirm', 'reagan', 'real', 'realiti', 'realiz', 'realli', 'reap', 'reason', 'rebar', 'rebat', 'rebuf', 'rebuff', 'rebuild', 'rebuilt', 'recal', 'recant', 'reced', 'receiv', 'recept', 'recess', 'recip', 'reciproc', 'reckless', 'reclaim', 'recogn', 'recognit', 'recommend', 'reconcili', 'reconvert', 'record', 'recov', 'recoveri', 'recruit', 'recus', 'red', 'redempt', 'redid', 'redistribut', 'redo', 'reduc', 'reduct', 'reed', 'reel', 'reelect', 'reenter', 'reev', 'refer', 'referr', 'refil', 'refin', 'reform', 'refriger', 'refuge', 'refus', 'reg', 'regain', 'regim', 'region', 'regist', 'registr', 'registri', 'regul', 'regular', 'regulatori', 'reid', 'reign', 'reimpos', 'rein', 'reinc', 'reinstat', 'reiter', 'reject', 'rejoin', 'relat', 'relationship', 'relax', 'releas', 'relentless', 'reli', 'relianc', 'reliant', 'relief', 'reliev', 'religi', 'religion', 'remain', 'remaind', 'remark', 'remdesivir', 'rememb', 'remember', 'remembr', 'remind', 'remitt', 'remnant', 'remot', 'remov', 'renegoti', 'renew', 'reno', 'renov', 'rent', 'reopen', 'repeal', 'repeat', 'repercuss', 'replac', 'replay', 'repli', 'replic', 'report', 'repres', 'repriev', 'reprimand', 'reptil', 'republ', 'republican', 'republicans', 'reput', 'request', 'requir', 'rerun', 'reschenthal', 'rescu', 'resembl', 'reserv', 'resettl', 'resid', 'resign', 'resili', 'resist', 'resistor', 'resolut', 'resolv', 'resourc', 'respect', 'respir', 'respond', 'respons', 'rest', 'restaur', 'restor', 'restrain', 'restrict', 'restrictor', 'result', 'resum', 'resurg', 'resuscit', 'retail', 'retir', 'retract', 'retroact', 'return', 'retweet', 'reunit', 'reveal', 'revenu', 'rever', 'reverend', 'revers', 'review', 'revit', 'reviv', 'revok', 'revolut', 'revolution', 'revolutionari', 'reward', 'rewrit', 'rewritten', 'reynold', 'rhetor', 'rhino', 'rib', 'rice', 'rich', 'richard', 'richer', 'richest', 'richmond', 'rick', 'rickett', 'rico', 'rid', 'riddanc', 'ride', 'rider', 'ridicul', 'rifl', 'rig', 'righteous', 'rigid', 'ring', 'rink', 'rino', 'rio', 'riot', 'rioter', 'rip', 'ripe', 'ripoff', 'ris', 'rise', 'risen', 'risk', 'riski', 'rival', 'river', 'rivera', 'riviera', 'rnc', 'road', 'roadsid', 'roadway', 'roam', 'roanok', 'roar', 'rob', 'robberi', 'robert', 'robin', 'robo', 'rochest', 'rock', 'rocket', 'rocki', 'rod', 'rode', 'rodim', 'roenik', 'roger', 'rogu', 'role', 'roll', 'roller', 'rolls', 'romney', 'ron', 'ronald', 'ronna', 'roof', 'room', 'roosevelt', 'root', 'rope', 'rose', 'rosi', 'ross', 'rot', 'roth', 'rotten', 'rotunda', 'rough', 'rougher', 'roughest', 'round', 'rourk', 'rout', 'routin', 'rouzer', 'row', 'royc', 'rr', 'rubber', 'ruder', 'rudi', 'ruin', 'rule', 'rumor', 'runaway', 'runway', 'rural', 'rush', 'rushmor', 'russia', 'russian', 'rust', 'rusti', 'ruth', 'rutherford', 'ruthless', 'ryan', 'sabotag', 'sacr', 'sacrif', 'sacrific', 'sad', 'saddl', 'sadist', 'safe', 'safeguard', 'safer', 'safest', 'safeti', 'saginaw', 'sail', 'sake', 'salari', 'sale', 'salem', 'salesman', 'salli', 'salon', 'salut', 'salute', 'salvador', 'samaritan', 'san', 'sanction', 'sanctiti', 'sanctuari', 'sand', 'sander', 'sandia', 'sanduski', 'sane', 'sanitari', 'santo', 'sara', 'sarah', 'sarcasm', 'sat', 'satisfact', 'satisfactori', 'satisfi', 'saturday', 'saudi', 'sauna', 'sav', 'savag', 'save', 'sayonara', 'scale', 'scalia', 'scalis', 'scam', 'scammer', 'scandal', 'scarc', 'scare', 'scari', 'scavino', 'scenario', 'scene', 'schedul', 'scheme', 'schiff', 'schlapp', 'schmidt', 'schmuck', 'schneider', 'scholar', 'scholarship', 'school', 'schriever', 'schumer', 'schwarzenegg', 'schweikert', 'scienc', 'scientif', 'scientist', 'scold', 'scope', 'score', 'scorn', 'scotland', 'scott', 'scoundrel', 'scrambl', 'scranton', 'scream', 'screed', 'screen', 'screw', 'scum', 'sea', 'seafood', 'seal', 'sean', 'search', 'season', 'seat', 'seattl', 'second', 'secret', 'secretari', 'sectarian', 'sector', 'secur', 'seed', 'seeded', 'seek', 'seeker', 'segreg', 'segregationist', 'seig', 'seiz', 'seldom', 'select', 'selfish', 'selfless', 'sell', 'sellout', 'semi', 'semit', 'senat', 'send', 'senior', 'sens', 'senseless', 'sensenbrenn', 'sentenc', 'seoul', 'separ', 'septemb', 'sequest', 'serbia', 'sergeant', 'seri', 'serious', 'serv', 'server', 'servic', 'set', 'setback', 'settelmey', 'settl', 'setup', 'sever', 'sewer', 'sex', 'sexual', 'shad', 'shake', 'shale', 'sham', 'shambl', 'shame', 'shameless', 'shanghai', 'shape', 'share', 'sharon', 'sharp', 'sharper', 'sharpest', 'sharpton', 'shatter', 'shave', 'sheen', 'sheet', 'sheik', 'sheldon', 'shell', 'shellack', 'shelter', 'shelv', 'shenanigan', 'shep', 'sheriff', 'shi', 'shield', 'shift', 'shifti', 'shine', 'shinzo', 'shinzō', 'ship', 'shipbuild', 'shipment', 'shipyard', 'shirt', 'shock', 'shocker', 'shoe', 'shoelac', 'shoestr', 'shook', 'shoot', 'shop', 'shopkeep', 'shore', 'short', 'shortcut', 'shorter', 'shot', 'shoulder', 'shout', 'shower', 'shred', 'shudder', 'shut', 'shutdown', 'shutter', 'sick', 'sid', 'side', 'sidewalk', 'sieg', 'sieman', 'sienna', 'sigh', 'sight', 'sign', 'signal', 'signatur', 'signific', 'signup', 'silenc', 'silent', 'silk', 'silli', 'silver', 'simmer', 'simpl', 'simpli', 'simultan', 'sin', 'sinatra', 'sinc', 'sincer', 'sing', 'singl', 'sinist', 'sink', 'sir', 'siryou', 'sister', 'sit', 'site', 'situat', 'sixth', 'sixti', 'size', 'skate', 'skill', 'skin', 'skip', 'skirt', 'skit', 'skunk', 'sky', 'skyrocket', 'skyscrap', 'slab', 'slander', 'slang', 'slash', 'slaughter', 'sleazebag', 'sledgehamm', 'sleep', 'sleepi', 'slept', 'slice', 'slick', 'slid', 'slight', 'slim', 'slimebal', 'slip', 'slipperi', 'slippi', 'sliver', 'slob', 'slogan', 'slot', 'slow', 'slower', 'slowest', 'slowli', 'slupe', 'smack', 'small', 'smaller', 'smallest', 'smart', 'smarter', 'smartest', 'smash', 'smatter', 'smear', 'smile', 'smith', 'smooth', 'smother', 'smucker', 'smuggl', 'smuggler', 'snake', 'sneak', 'sneaki', 'sneer', 'sniffl', 'snow', 'snp', 'soak', 'soar', 'soccer', 'social', 'socialist', 'societi', 'soft', 'softbal', 'softer', 'soil', 'solar', 'sold', 'soldier', 'sole', 'soleimani', 'solicit', 'solid', 'solidar', 'solomon', 'solut', 'solv', 'som', 'somali', 'somalia', 'somber', 'somebodi', 'someday', 'someon', 'someplac', 'someth', 'sometim', 'somewher', 'son', 'song', 'sonic', 'sonni', 'soo', 'sooner', 'sophist', 'sorri', 'sort', 'sought', 'soul', 'soulless', 'sound', 'soup', 'sourc', 'south', 'southeast', 'souther', 'southern', 'sovereign', 'sovereignti', 'soviet', 'soy', 'soybean', 'spa', 'space', 'spain', 'span', 'spare', 'speak', 'speaker', 'special', 'specialti', 'specif', 'spectacular', 'spectrum', 'speech', 'speed', 'spell', 'spend', 'spent', 'spew', 'spi', 'spike', 'spill', 'spin', 'spirit', 'spit', 'spite', 'split', 'spoil', 'spoke', 'spoken', 'spokesman', 'sponsor', 'spoon', 'sport', 'spot', 'spous', 'spragu', 'sprawl', 'spray', 'spread', 'spree', 'spring', 'springsteen', 'spur', 'spying', 'squander', 'squar', 'squeez', 'st', 'stab', 'stabl', 'stacey', 'stack', 'stadium', 'staff', 'stage', 'stagger', 'stagnat', 'stair', 'stairway', 'stairwel', 'stake', 'stamp', 'stanc', 'stand', 'standard', 'standing', 'standpoint', 'stanton', 'star', 'stare', 'starkvill', 'start', 'starting', 'starv', 'stat', 'statement', 'stater', 'station', 'statist', 'statu', 'status', 'statut', 'statutori', 'statutorili', 'stauber', 'stay', 'steak', 'steal', 'stealth', 'steam', 'steel', 'steeler', 'steelwork', 'steep', 'stefanik', 'steil', 'stein', 'steinhardt', 'stell', 'steni', 'step', 'stepanek', 'stephanopoulo', 'steroid', 'steve', 'steven', 'steward', 'steyer', 'stick', 'stiff', 'stimulus', 'stink', 'stitt', 'stock', 'stoddard', 'stoke', 'stole', 'stolen', 'stoltenberg', 'stomp', 'stone', 'stonecold', 'stood', 'stopped', 'storag', 'store', 'storefront', 'stori', 'storm', 'straight', 'straighten', 'strain', 'strait', 'strang', 'strangl', 'strateg', 'strategi', 'straw', 'streak', 'stream', 'street', 'streetwis', 'streisand', 'strength', 'strengthen', 'strict', 'stride', 'strike', 'striker', 'strip', 'stripe', 'stroke', 'strong', 'stronger', 'strongest', 'structur', 'struggl', 'strzok', 'stuck', 'student', 'studi', 'studio', 'stuf', 'stuff', 'stupid', 'stupidest', 'stutter', 'style', 'su', 'subject', 'subjug', 'submarin', 'submiss', 'submit', 'subpoena', 'subservi', 'subsid', 'subsidi', 'substanc', 'substanti', 'suburb', 'suburban', 'suburbanit', 'suburbia', 'subvert', 'succeed', 'success', 'sucker', 'sudden', 'sue', 'suffer', 'suffici', 'suicid', 'suit', 'sum', 'summer', 'summit', 'summon', 'sun', 'sunday', 'sununu', 'super', 'superior', 'superman', 'supermarket', 'superpow', 'superstar', 'superstiti', 'suppli', 'supplier', 'support', 'suppos', 'suppress', 'suprem', 'surfac', 'surg', 'surgeon', 'surpass', 'surplus', 'surpris', 'surrend', 'surround', 'surveil', 'surviv', 'survivor', 'susan', 'suscept', 'suspect', 'suspend', 'suspens', 'sustain', 'swamp', 'swanton', 'swear', 'sweat', 'sweden', 'sweep', 'sweetheart', 'swift', 'swifton', 'swine', 'swing', 'sword', 'sworn', 'swung', 'symbol', 'syndrom', 'syracusecom', 'syria', 'system', 'ta', 'taba', 'tabl', 'tabul', 'tack', 'tail', 'tak', 'takeov', 'taker', 'talent', 'talib', 'taliban', 'talk', 'tall', 'tallahasse', 'taller', 'tallest', 'tame', 'tampa', 'tangl', 'tank', 'tanker', 'tape', 'tapper', 'tar', 'tara', 'target', 'tariff', 'task', 'tate', 'tattoo', 'taught', 'tax', 'taxpay', 'taxpayer', 'taylor', 'teach', 'teacher', 'team', 'teamster', 'tear', 'tech', 'technic', 'technician', 'technolog', 'ted', 'tee', 'teenag', 'teeth', 'telephon', 'teleprompt', 'televis', 'telling', 'temperatur', 'temporari', 'ten', 'tend', 'tendenc', 'tennesse', 'tent', 'tentat', 'tenth', 'tenur', 'term', 'termin', 'terri', 'terribl', 'terrif', 'terrifi', 'territori', 'terror', 'terrorist', 'test', 'testa', 'testifi', 'texa', 'texan', 'text', 'theft', 'thel', 'theme', 'themselv', 'theori', 'therapeut', 'therapi', 'thereaft', 'therefor', 'thick', 'thiev', 'thin', 'thingit', 'things', 'thinkabl', 'thinker', 'third', 'thirst', 'thoma', 'thompson', 'thorough', 'thoroughfar', 'thought', 'thousandth', 'threat', 'threaten', 'three', 'threw', 'thrill', 'thrive', 'throw', 'thrown', 'thug', 'thumb', 'thunder', 'thurman', 'thursday', 'thwart', 'ticket', 'tidal', 'tie', 'tiffani', 'tiger', 'tight', 'tighten', 'tighter', 'tiktok', 'till', 'tiller', 'tilli', 'tim', 'timber', 'time', 'timeless', 'times', 'timken', 'timmon', 'tini', 'tipto', 'tipton', 'tire', 'tireless', 'titan', 'titanic', 'titl', 'tivo', 'tlaib', 'tobacco', 'today', 'todd', 'togeth', 'toilet', 'told', 'toledo', 'toler', 'tom', 'tomb', 'tombston', 'tommi', 'tomorrow', 'ton', 'tone', 'tonight', 'tool', 'top', 'tore', 'torn', 'tornado', 'tortur', 'toss', 'total', 'totally', 'touch', 'tough', 'tougher', 'toughest', 'tourism', 'tower', 'town', 'townsend', 'toxic', 'toy', 'toyota', 'tpp', 'track', 'tractor', 'trade', 'tradit', 'traffic', 'traffick', 'tragic', 'trail', 'trailblaz', 'trailer', 'train', 'traitor', 'trampl', 'tran', 'trans', 'transcrib', 'transcript', 'transform', 'transfus', 'transit', 'transpacif', 'transpar', 'transplant', 'transport', 'trap', 'trash', 'travel', 'travesti', 'travi', 'treacheri', 'treason', 'treasur', 'treasuri', 'treat', 'treated', 'treatment', 'tree', 'trembl', 'tremend', 'tremendous', 'trench', 'trend', 'trent', 'trenton', 'trespass', 'tri', 'trial', 'tribut', 'trick', 'tricki', 'trigger', 'trillion', 'trip', 'tripl', 'triumph', 'trojan', 'troop', 'trooper', 'troubl', 'troublemak', 'trove', 'truck', 'true', 'truest', 'truli', 'trump', 'trumper', 'trumpi', 'trumpvill', 'trunk', 'trust', 'truth', 'tube', 'tuber', 'tucker', 'tucson', 'tuesday', 'tulsa', 'tulsi', 'tumbl', 'tuna', 'tunnel', 'tupelo', 'turk', 'turkey', 'turley', 'turmoil', 'turn', 'turnaround', 'turner', 'turnout', 'tv', 'tweet', 'twin', 'twist', 'twitter', 'twos', 'type', 'typic', 'typo', 'tyranni', 'uae', 'uaw', 'ufc', 'ugli', 'uh', 'uk', 'ukrain', 'ukrainian', 'ulterior', 'ultim', 'ultra', 'ulyss', 'unabl', 'unaccept', 'unanim', 'unbeliev', 'unbound', 'unbreak', 'uncomfort', 'unconstitut', 'uncontrol', 'unconvent', 'uncov', 'undercount', 'undercov', 'underestim', 'underground', 'undermin', 'underserv', 'understand', 'understood', 'underway', 'undo', 'undon', 'unelect', 'unemploy', 'unexpect', 'unfair', 'unfett', 'unfit', 'unforeseen', 'unfortun', 'ungrat', 'unhappi', 'unheard', 'unhing', 'unholi', 'uni', 'unifi', 'uniform', 'unilater', 'uninvolv', 'union', 'uniqu', 'unit', 'uniti', 'univers', 'unjust', 'unlaw', 'unleash', 'unlik', 'unlimit', 'unlucki', 'unmatch', 'unnecessari', 'unparallel', 'unpleas', 'unpopular', 'unpreced', 'unpronounc', 'unrel', 'unriv', 'unruli', 'unsaf', 'unsolicit', 'unsubstanti', 'unsuccess', 'unsupport', 'unsur', 'unsuspect', 'unsustain', 'untal', 'unthink', 'untru', 'unusu', 'unvet', 'unwav', 'updat', 'upfront', 'upgrad', 'upheld', 'uphil', 'uphold', 'uplift', 'upper', 'upset', 'upsid', 'upstair', 'upward', 'urban', 'urg', 'usa', 'useless', 'usmca', 'usual', 'utah', 'util', 'utter', 'va', 'vacanc', 'vaccin', 'vacuum', 'valley', 'valor', 'valu', 'valv', 'van', 'vandal', 'vanish', 'varieti', 'vast', 'vaulter', 'vega', 'vehemently', 'vehicl', 'velshi', 'venezuela', 'venezuelan', 'ventil', 'venu', 'verbal', 'verchota', 'verg', 'verif', 'verifi', 'vermont', 'version', 'versus', 'vest', 'vet', 'veteran', 'veto', 'vial', 'vibrant', 'vice', 'vicious', 'victim', 'victor', 'victori', 'video', 'vietnam', 'view', 'viewer', 'vigor', 'vile', 'vilifi', 'villa', 'villag', 'villain', 'vineland', 'violat', 'violenc', 'violent', 'violet', 'viral', 'virginia', 'virtu', 'virtual', 'virul', 'virus', 'visa', 'viscous', 'vision', 'visit', 'visual', 'vital', 'vivian', 'vladimir', 'vogu', 'voic', 'voss', 'vote', 'voter', 'votes', 'vow', 'vp', 'vreeland', 'vuitton', 'vulner', 'vultur', 'wacki', 'wacko', 'wage', 'wagon', 'wah', 'wait', 'waiting', 'waiver', 'wake', 'walberg', 'walk', 'walker', 'wall', 'wallac', 'walmart', 'walter', 'waltz', 'wand', 'wander', 'war', 'ward', 'warfar', 'warfight', 'warin', 'warlik', 'warm', 'warmer', 'warn', 'warner', 'warp', 'warrant', 'warren', 'warrior', 'warship', 'warthog', 'wash', 'washington', 'wasn', 'wasp', 'wast', 'wastepap', 'watch', 'watcher', 'water', 'watson', 'wave', 'weak', 'weaken', 'weaker', 'weakest', 'weakl', 'wealth', 'wealthi', 'wealthier', 'wealthiest', 'weapon', 'weaponri', 'wear', 'weather', 'weber', 'websit', 'wednesday', 'weed', 'week', 'weekend', 'weigh', 'weight', 'weird', 'weirdest', 'weissman', 'weissmann', 'welcom', 'welfar', 'wellb', 'weller', 'wendi', 'wenstrup', 'weren', 'west', 'westchest', 'western', 'wet', 'whack', 'whatev', 'whatley', 'whatsoev', 'wheel', 'wheeler', 'whenev', 'wherev', 'whey', 'whi', 'whip', 'whippl', 'whistl', 'whistleblow', 'whitak', 'white', 'whoa', 'wholli', 'whoop', 'wick', 'wicker', 'wid', 'wide', 'wield', 'wife', 'wilbur', 'wild', 'wildcat', 'wilder', 'wildest', 'wildfir', 'wildwood', 'william', 'williamsburg', 'wilmington', 'wilson', 'win', 'wind', 'windi', 'windmil', 'window', 'wine', 'winfrey', 'wing', 'wingspan', 'winner', 'winston', 'winter', 'wipe', 'wire', 'wis', 'wisconsin', 'wisdom', 'wise', 'wit', 'witch', 'withdraw', 'withdrew', 'withhold', 'withstand', 'wittman', 'wive', 'wo', 'woah', 'wobbl', 'woke', 'wolfgang', 'woman', 'womankind', 'womb', 'women', 'won', 'wonder', 'wood', 'woodward', 'word', 'wore', 'work', 'worked', 'worker', 'workforc', 'workout', 'worldview', 'worldwid', 'worri', 'wors', 'worst', 'worth', 'worthless', 'worthwhil', 'wouldn', 'wound', 'wow', 'wowthank', 'wrap', 'wreck', 'wrestl', 'wretch', 'wright', 'wrist', 'write', 'writer', 'written', 'wrong', 'wrote', 'wto', 'wuhan', 'xenophob', 'xenophobia', 'xi', 'xl', 'ya', 'yai', 'yale', 'yanke', 'yard', 'yarder', 'ye', 'yeah', 'years', 'yellow', 'yemen', 'yep', 'yesterday', 'ymca', 'yoga', 'yoho', 'york', 'young', 'younger', 'youngest', 'yourselv', 'youth', 'yucca', 'yuma', 'zealot', 'zeldin', 'zo', 'zone', 'zucker', 'zuckerberg', 'zupancich']\n"
     ]
    }
   ],
   "source": [
    "myfich=vec.get_feature_names()\n",
    "print(myfich)"
   ]
  },
  {
   "cell_type": "code",
   "execution_count": 21,
   "metadata": {},
   "outputs": [
    {
     "name": "stdout",
     "output_type": "stream",
     "text": [
      "(258, 5577)\n",
      "[0.07320335 0.09683509 0.30725832 ... 0.1729819  0.08663749 0.06995594]\n",
      "5577\n"
     ]
    }
   ],
   "source": [
    "print(data.shape)\n",
    "tt = data.sum(axis=0)\n",
    "print(tt)\n",
    "print(len(tt))"
   ]
  },
  {
   "cell_type": "code",
   "execution_count": 22,
   "metadata": {},
   "outputs": [
    {
     "name": "stdout",
     "output_type": "stream",
     "text": [
      "clustering is complete\n",
      "[2 4 0 1 1 1 1 2 2 2 2 2 2 2 1 1 4 4 1 0 3 3 4 1 1 2 2 2 1 2 1 1 1 1 2 2 0\n",
      " 0 0 2 2 0 1 3 2 2 1 1 1 1 2 1 0 0 4 3 4 1 2 2 4 4 0 0 3 1 1 1 1 2 4 1 0 0\n",
      " 4 3 2 1 1 1 4 4 2 2 4 4 1 0 0 2 3 2 1 2 4 4 1 4 1 1 1 2 0 4 3 1 4 4 1 1 2\n",
      " 2 4 4 1 0 0 0 2 3 3 4 1 4 4 2 0 0 4 4 3 3 1 1 2 2 1 2 2 4 4 1 2 2 1 1 4 4\n",
      " 4 4 0 0 3 1 2 1 1 1 1 2 4 2 4 1 1 3 2 1 2 1 2 1 1 2 0 4 4 4 0 3 1 1 1 1 2\n",
      " 1 2 2 1 4 0 3 2 2 2 2 2 2 2 1 4 1 0 4 3 2 2 2 2 1 2 2 2 2 2 4 1 2 2 0 0 3\n",
      " 2 1 1 2 1 2 2 2 1 4 1 1 1 2 0 4 4 1 1 1 4 1 1 4 1 4 1 1 4 1 4 4 1 1 1 1]\n",
      "Size of array km.labels_: 258\n"
     ]
    }
   ],
   "source": [
    "from sklearn.cluster import KMeans\n",
    "\n",
    "num_clusters = 5\n",
    "\n",
    "km = KMeans(n_clusters = num_clusters, init=\"random\", max_iter=100, n_init=1)\n",
    "\n",
    "km.fit(data)\n",
    "\n",
    "print('clustering is complete')\n",
    "\n",
    "print(km.labels_)\n",
    "\n",
    "print('Size of array km.labels_:', len(km.labels_))"
   ]
  },
  {
   "cell_type": "code",
   "execution_count": 23,
   "metadata": {},
   "outputs": [
    {
     "name": "stdout",
     "output_type": "stream",
     "text": [
      "Document numbers in clusters defaultdict(<class 'list'>, {2: [0, 7, 8, 9, 10, 11, 12, 13, 25, 26, 27, 29, 34, 35, 39, 40, 44, 45, 50, 58, 59, 69, 76, 82, 83, 89, 91, 93, 101, 110, 111, 118, 125, 134, 135, 137, 138, 142, 143, 154, 159, 161, 166, 168, 170, 173, 184, 186, 187, 192, 193, 194, 195, 196, 197, 198, 205, 206, 207, 208, 210, 211, 212, 213, 214, 217, 218, 222, 225, 227, 228, 229, 235], 4: [1, 16, 17, 22, 54, 56, 60, 61, 70, 74, 80, 81, 84, 85, 94, 95, 97, 103, 106, 107, 112, 113, 121, 123, 124, 128, 129, 139, 140, 146, 147, 148, 149, 160, 162, 175, 176, 177, 189, 200, 203, 215, 231, 237, 238, 242, 245, 247, 250, 252, 253], 0: [2, 19, 36, 37, 38, 41, 52, 53, 62, 63, 72, 73, 87, 88, 102, 115, 116, 117, 126, 127, 150, 151, 174, 178, 190, 202, 219, 220, 236], 1: [3, 4, 5, 6, 14, 15, 18, 23, 24, 28, 30, 31, 32, 33, 42, 46, 47, 48, 49, 51, 57, 65, 66, 67, 68, 71, 77, 78, 79, 86, 92, 96, 98, 99, 100, 105, 108, 109, 114, 122, 132, 133, 136, 141, 144, 145, 153, 155, 156, 157, 158, 163, 164, 167, 169, 171, 172, 180, 181, 182, 183, 185, 188, 199, 201, 209, 216, 223, 224, 226, 230, 232, 233, 234, 239, 240, 241, 243, 244, 246, 248, 249, 251, 254, 255, 256, 257], 3: [20, 21, 43, 55, 64, 75, 90, 104, 119, 120, 130, 131, 152, 165, 179, 191, 204, 221]})\n",
      "Content of a document № 12:\n",
      "you know we have judg that are … we just had a great stori in the wall street journal i have to be alway veri truth becaus if i 'm a littl bit off they call me a liar they ll say `` he get a pinocchio '' the stupid washington post they have pinocchio i mean even if you re say thing perfect it 's a pinocchio there 's noth you can say where you do n't get a pinocchio but what happen what happen is we have wall street journal the other day got the best stori they said `` whether you like him or not the job he 's done on judg and suprem court justic but the job he 's done on judg is amaz say it 's the most import thing see i do n't agre i say defens is the most the militari is the most but onc you re beyond the militari i mean to me defens is the most import becaus without good defens mayb we do n't need judg so much right it 's like somebodi said `` well we violat the budget '' i said `` do me a favor do n't worri about the budget if we re attack and are n't do veri well and somebodi say ‘ well at least we have a good budget ' that doe n't work too well '' right that doe n't work so we have great militari we have great judg we have great everyth drug price down for the first time in year drug price came down and that was with no help from the democrat if they help becaus you need their vote if they help i could get those drug price down and % okay and we just approv and we re approv veri soon for the governor of florida ron desanti where he can buy he has the right to go we re give him the right to go and buy from a foreign countri where the price for the ident drug ident drug are % less he 's go to do that for the peopl of florida and we re go to do that for your governor if they want to do that we ll get that down so far everyon in america can see straight through the washington democrat ' phoni danger charad schiff make up so mani thing pelosi make it up and she back him up i saw her on a televis show and georg stephanopoulo that 's anoth beauti he said even he said he was defend me i could n't believ it he made this statement `` but you know he lie on that he made up this stuff '' `` no he did n't he did n't '' so that mean nanci pelosi said no the statement that he made up but it 's all go to end soon and it 's go to come out to a beauti great victori for the republican parti and for this nation thank you veri much so that 's it we have the greatest countri we ve turn around a ship we need four more year if we do n't have it … now if you want to drive them crazi we had one group in pennsylvania some guy start scream `` more year '' they went crazi and you know what they do n't understand when i do get out they re all go to go out of busi they re make more money than they ve ever made that crazi new york time one of the worst newspap in the world one of the most dishonest newspap in the histori of the world total phoni they came out with a stori where it was a great headlin for me and the peopl that read it the super radic left they call and complain so much that they chang the headlin and took it from posit to negat on a good stori can you believ it no they re among the most dishonest peopl but i ll never forget befor i took that great escal ride down with our first ladi … our first ladi is do a great job great job i said `` first ladi you re so lucki i took you on this journey this wonder beauti journey '' and it is you know whi it 's a wonder beauti journey becaus look at what we re accomplish is unbeliev it 's unpreced it is unpreced what we re accomplish `` you re so lucki '' i said it to all my peopl i have great peopl in the back i say `` you folk are so lucki i took you on this you could be home right now relax '' but i 'd rather be here frank than ani place these ralli are great they re inspir you are inspir and you know it 's funni we re not even into elect season yeah it 's a long way away we re not even in it\n",
      "-------------------------------------------------\n"
     ]
    }
   ],
   "source": [
    "import collections\n",
    "clustering = collections.defaultdict(list)\n",
    "\n",
    "for i, label in enumerate(km.labels_):\n",
    "        clustering[label].append(i)\n",
    "        \n",
    "print('Document numbers in clusters', clustering)\n",
    "print('Content of a document № 12:')\n",
    "print(df['Text'][12])\n",
    "print('-------------------------------------------------')"
   ]
  },
  {
   "cell_type": "code",
   "execution_count": 24,
   "metadata": {},
   "outputs": [
    {
     "name": "stdout",
     "output_type": "stream",
     "text": [
      "We have flowoing dataframe:  ['text', 'category']\n",
      "                                                  text  category\n",
      "0    thank you thank you thank you to vice presid p...         2\n",
      "1    so we left a littl stuff for the union becaus ...         4\n",
      "2    you heard where the father flew them the grand...         0\n",
      "3    then the number come out with an adjust rememb...         1\n",
      "4    and i said to my peopl `` whi so small '' are ...         1\n",
      "..                                                 ...       ...\n",
      "253  thank you thank you i love new jersey and i 'm...         4\n",
      "254  well thank you veri much thank you thank you v...         1\n",
      "255  oh thank you veri much everybodi thank you wel...         1\n",
      "256  thank you wowthank you veri much hello newport...         1\n",
      "257  hello jacksonvill we love jacksonvill we love ...         1\n",
      "\n",
      "[258 rows x 2 columns]\n"
     ]
    }
   ],
   "source": [
    "results = pd.DataFrame()\n",
    "results['text'] = df['Text']\n",
    "results['category'] = km.labels_\n",
    "\n",
    "print('We have flowoing dataframe: ', list(results))\n",
    "\n",
    "print(results)"
   ]
  },
  {
   "cell_type": "code",
   "execution_count": 25,
   "metadata": {},
   "outputs": [
    {
     "name": "stdout",
     "output_type": "stream",
     "text": [
      "(5, 5577)\n"
     ]
    }
   ],
   "source": [
    "centroids = km.cluster_centers_\n",
    "\n",
    "print(centroids.shape)"
   ]
  },
  {
   "cell_type": "code",
   "execution_count": 26,
   "metadata": {},
   "outputs": [
    {
     "name": "stdout",
     "output_type": "stream",
     "text": [
      "(5, 5577)\n",
      "[[2265 3804 1520 ... 2216 5562 3832]\n",
      " [ 453 5010 2627 ... 4280 1375 3400]\n",
      " [5010 4252  679 ... 1147 2978 3088]\n",
      " [ 151 5471 3290 ...  183 3145 4288]\n",
      " [ 462 1788  828 ...  854 1925 5285]]\n"
     ]
    }
   ],
   "source": [
    "order_centroids = km.cluster_centers_.argsort()[:, ::-1]\n",
    "\n",
    "print(order_centroids.shape)\n",
    "print(order_centroids)"
   ]
  },
  {
   "cell_type": "code",
   "execution_count": 27,
   "metadata": {},
   "outputs": [
    {
     "name": "stdout",
     "output_type": "stream",
     "text": [
      "Displaying top words from each cluster:\n",
      "--------------------\n",
      "Cluster 0:\n",
      "healthcar\n",
      "price\n",
      "drug\n",
      "doctor\n",
      "babi\n",
      "plan\n",
      "parti\n",
      "late\n",
      "abort\n",
      "better\n",
      "--------------------\n",
      "Cluster 1:\n",
      "biden\n",
      "time\n",
      "joe\n",
      "win\n",
      "michigan\n",
      "democrat\n",
      "vote\n",
      "border\n",
      "citi\n",
      "won\n",
      "--------------------\n",
      "Cluster 2:\n",
      "time\n",
      "russia\n",
      "call\n",
      "best\n",
      "greatest\n",
      "deal\n",
      "mike\n",
      "histori\n",
      "love\n",
      "democrat\n",
      "--------------------\n",
      "Cluster 3:\n",
      "america\n",
      "win\n",
      "nation\n",
      "togeth\n",
      "god\n",
      "help\n",
      "fight\n",
      "believ\n",
      "famili\n",
      "stand\n",
      "--------------------\n",
      "Cluster 4:\n",
      "billion\n",
      "farmer\n",
      "china\n",
      "sir\n",
      "time\n",
      "america\n",
      "pay\n",
      "deal\n",
      "love\n",
      "mani\n"
     ]
    }
   ],
   "source": [
    "print(\"Displaying top words from each cluster:\")\n",
    "\n",
    "terms = vec.get_feature_names()\n",
    "for i in range(num_clusters):\n",
    "    print('--------------------')\n",
    "    print(\"Cluster %d:\" % i),\n",
    "    for ind in order_centroids[i, :10]:\n",
    "        print(terms[ind])"
   ]
  }
 ],
 "metadata": {
  "kernelspec": {
   "display_name": "Python 3",
   "language": "python",
   "name": "python3"
  },
  "language_info": {
   "codemirror_mode": {
    "name": "ipython",
    "version": 3
   },
   "file_extension": ".py",
   "mimetype": "text/x-python",
   "name": "python",
   "nbconvert_exporter": "python",
   "pygments_lexer": "ipython3",
   "version": "3.8.3"
  }
 },
 "nbformat": 4,
 "nbformat_minor": 4
}
